{
  "nbformat": 4,
  "nbformat_minor": 0,
  "metadata": {
    "colab": {
      "name": "_2 사이킷런(scikit-learn) 시작.ipynb",
      "provenance": [],
      "collapsed_sections": [],
      "include_colab_link": true
    },
    "kernelspec": {
      "name": "python3",
      "display_name": "Python 3"
    }
  },
  "cells": [
    {
      "cell_type": "markdown",
      "metadata": {
        "id": "view-in-github",
        "colab_type": "text"
      },
      "source": [
        "<a href=\"https://colab.research.google.com/github/Tom-Jung/Suanlab_example/blob/main/_2_%EC%82%AC%EC%9D%B4%ED%82%B7%EB%9F%B0(scikit_learn)_%EC%8B%9C%EC%9E%91.ipynb\" target=\"_parent\"><img src=\"https://colab.research.google.com/assets/colab-badge.svg\" alt=\"Open In Colab\"/></a>"
      ]
    },
    {
      "cell_type": "markdown",
      "metadata": {
        "id": "Bwm3Ce3oIgYi"
      },
      "source": [
        "# 사이킷런(scikit-learn) 시작\n",
        "\n",
        "![scikit-learn logo.png](https://drive.google.com/uc?id=1Aeb0mBJzYgz7UGmHAdGsQJF44EM9mNTD)"
      ]
    },
    {
      "cell_type": "markdown",
      "metadata": {
        "id": "UhF1mufkp8TQ"
      },
      "source": [
        "## scikit-learn 특징\n",
        "\n",
        "* 다양한 머신러닝 알고리즘을 구현한 파이썬 라이브러리\n",
        "* 심플하고 일관성 있는 API, 유용한 온라인 문서, 풍부한 예제\n",
        "* 머신러닝을 위한 쉽고 효율적인 개발 라이브러리 제공\n",
        "* 다양한 머신러닝 관련 알고리즘과 개발을 위한 프레임워크와 API 제공\n",
        "* 많은 사람들이 사용하며 다양한 환경에서 검증된 라이브러리"
      ]
    },
    {
      "cell_type": "markdown",
      "metadata": {
        "id": "19ORAlQckvSb"
      },
      "source": [
        "## scikit-learn 주요 모듈"
      ]
    },
    {
      "cell_type": "markdown",
      "metadata": {
        "id": "n4luZ6ock5rm"
      },
      "source": [
        "| 모듈 | 설명 |\n",
        "|------|------|\n",
        "| `sklearn.datasets` | 내장된 예제 데이터 세트 |\n",
        "| `sklearn.preprocessing` | 다양한 데이터 전처리 기능 제공 (변환, 정규화, 스케일링 등) |\n",
        "| `sklearn.feature_selection` | 특징(feature)를 선택할 수 있는 기능 제공 | \n",
        "| `sklearn.feature_extraction` | 특징(feature) 추출에 사용 |\n",
        "| `sklearn.decomposition` | 차원 축소 관련 알고리즘 지원 (PCA, NMF, Truncated SVD 등)\n",
        "| `sklearn.model_selection` | 교차 검증을 위해 데이터를 학습/테스트용으로 분리, 최적 파라미터를 추출하는 API 제공 (GridSearch 등)\n",
        "| `sklearn.metrics` | 분류, 회귀, 클러스터링, Pairwise에 대한 다양한 성능 측정 방법 제공 (Accuracy, Precision, Recall, ROC-AUC, RMSE 등) |\n",
        "| `sklearn.pipeline` | 특징 처리 등의 변환과 ML 알고리즘 학습, 예측 등을 묶어서 실행할 수 있는 유틸리티 제공 |\n",
        "| `sklearn.linear_model` | 선형 회귀, 릿지(Ridge), 라쏘(Lasso), 로지스틱 회귀 등 회귀 관련 알고리즘과 SGD(Stochastic Gradient Descent) 알고리즘 제공 |\n",
        "| `sklearn.svm` | 서포트 벡터 머신 알고리즘 제공 |\n",
        "| `sklearn.neighbors` | 최근접 이웃 알고리즘 제공 (k-NN 등)\n",
        "| `sklearn.naive_bayes` | 나이브 베이즈 알고리즘 제공 (가우시안 NB, 다항 분포 NB 등) |\n",
        "| `sklearn.tree` | 의사 결정 트리 알고리즘 제공 |\n",
        "| `sklearn.ensemble` | 앙상블 알고리즘 제공 (Random Forest, AdaBoost, GradientBoost 등) |\n",
        "| `sklearn.cluster` | 비지도 클러스터링 알고리즘 제공 (k-Means, 계층형 클러스터링, DBSCAN 등)"
      ]
    },
    {
      "cell_type": "markdown",
      "metadata": {
        "id": "ikDZ-kpFo06o"
      },
      "source": [
        "## `estimator` API\n",
        "\n",
        "* 일관성: 모든 객체는 일관된 문서를 갖춘 제한된 메서드 집합에서 비롯된 공통 인터페이스 공유\n",
        "* 검사(inspection): 모든 지정된 파라미터 값은 공개 속성으로 노출\n",
        "* 제한된 객체 계층 구조\n",
        "  + 알고리즘만 파이썬 클래스에 의해 표현\n",
        "  + 데이터 세트는 표준 포맷(NumPy 배열, Pandas DataFrame, Scipy 희소 행렬)으로 표현\n",
        "  + 매개변수명은 표준 파이썬 문자열 사용\n",
        "* 구성: 많은 머신러닝 작업은 기본 알고리즘의 시퀀스로 나타낼 수 있으며, Scikit-Learn은 가능한 곳이라면 어디서든 이 방식을 사용\n",
        "* 합리적인 기본값: 모델이 사용자 지정 파라미터를 필요로 할 때 라이브러리가 적절한 기본값을 정의"
      ]
    },
    {
      "cell_type": "markdown",
      "metadata": {
        "id": "XKXC0zoTrmHM"
      },
      "source": [
        "### API 사용 방법\n",
        "\n",
        "1. Scikit-Learn으로부터 적절한 `estimator` 클래스를 임포트해서 모델의 클래스 선택\n",
        "2. 클래스를 원하는 값으로 인스턴스화해서 모델의 하이퍼파라미터 선택\n",
        "3. 데이터를 특징 배열과 대상 벡터로 배치\n",
        "4. 모델 인스턴스의 `fit()` 메서드를 호출해 모델을 데이터에 적합\n",
        "5. 모델을 새 데이터에 대해서 적용\n",
        "  + 지도 학습: 대체로 `predict()` 메서드를 사용해 알려지지 않은 데이터에 대한 레이블 예측\n",
        "  + 비지도 학습: 대체로 `transform()`이나 `predict()` 메서드를 사용해 데이터의 속성을 변환하거나 추론"
      ]
    },
    {
      "cell_type": "markdown",
      "metadata": {
        "id": "0WgAOokAPVvG"
      },
      "source": [
        "![scikit-learn](https://scikit-learn.org/stable/_static/ml_map.png)\n",
        "\n"
      ]
    },
    {
      "cell_type": "markdown",
      "metadata": {
        "id": "3lEfpb55skvd"
      },
      "source": [
        "### API 사용 예제"
      ]
    },
    {
      "cell_type": "code",
      "metadata": {
        "id": "Bxt8A5iQoHbc"
      },
      "source": [
        "import numpy as np\n",
        "import matplotlib.pyplot as plt\n",
        "plt.style.use(['seaborn-whitegrid'])"
      ],
      "execution_count": 1,
      "outputs": []
    },
    {
      "cell_type": "code",
      "metadata": {
        "id": "Ct9fa3T_s6nV",
        "colab": {
          "base_uri": "https://localhost:8080/",
          "height": 280
        },
        "outputId": "6cc59622-9dac-404b-88aa-05cae69ff96e"
      },
      "source": [
        "x = 10*np.random.rand(50)\n",
        "y=2*x + np.random.rand(50)\n",
        "plt.scatter(x,y)"
      ],
      "execution_count": 2,
      "outputs": [
        {
          "output_type": "execute_result",
          "data": {
            "text/plain": [
              "<matplotlib.collections.PathCollection at 0x7f9754fbbd50>"
            ]
          },
          "metadata": {},
          "execution_count": 2
        },
        {
          "output_type": "display_data",
          "data": {
            "text/plain": [
              "<Figure size 432x288 with 1 Axes>"
            ],
            "image/png": "[encoded data removed]"
          },
          "metadata": {
            "needs_background": "light"
          }
        }
      ]
    },
    {
      "cell_type": "code",
      "metadata": {
        "id": "4mYOpr_XubH2"
      },
      "source": [
        "# 1. Scikit-Learn으로부터 적절한 estimator 클래스를 임포트해서 모델의 클래스 선택\n",
        "from sklearn.linear_model import LinearRegression"
      ],
      "execution_count": 4,
      "outputs": []
    },
    {
      "cell_type": "code",
      "metadata": {
        "id": "ciPMcnzzzkDY",
        "colab": {
          "base_uri": "https://localhost:8080/"
        },
        "outputId": "65f0f0a9-dcd9-47e7-8223-f6837b0a670e"
      },
      "source": [
        "# 2. 클래스를 원하는 값으로 인스턴스화해서 모델의 하이퍼파라미터 선택\n",
        "model = LinearRegression(fit_intercept=True)\n",
        "model"
      ],
      "execution_count": 6,
      "outputs": [
        {
          "output_type": "execute_result",
          "data": {
            "text/plain": [
              "LinearRegression()"
            ]
          },
          "metadata": {},
          "execution_count": 6
        }
      ]
    },
    {
      "cell_type": "code",
      "metadata": {
        "id": "t7OWKXAbz7nd"
      },
      "source": [
        ""
      ],
      "execution_count": null,
      "outputs": []
    },
    {
      "cell_type": "code",
      "metadata": {
        "id": "KYDjfXEf0Fqt"
      },
      "source": [
        ""
      ],
      "execution_count": null,
      "outputs": []
    },
    {
      "cell_type": "code",
      "metadata": {
        "id": "Vw8MU5Ug0JDl"
      },
      "source": [
        ""
      ],
      "execution_count": null,
      "outputs": []
    },
    {
      "cell_type": "code",
      "metadata": {
        "id": "yxUYZU4f0Ktg"
      },
      "source": [
        ""
      ],
      "execution_count": null,
      "outputs": []
    },
    {
      "cell_type": "code",
      "metadata": {
        "id": "pIq6q0lb1oyD"
      },
      "source": [
        ""
      ],
      "execution_count": null,
      "outputs": []
    },
    {
      "cell_type": "code",
      "metadata": {
        "id": "bsBjQcoIl_6B"
      },
      "source": [
        ""
      ],
      "execution_count": null,
      "outputs": []
    },
    {
      "cell_type": "markdown",
      "metadata": {
        "id": "29de3S_Kon64"
      },
      "source": [
        "## 예제 데이터 세트"
      ]
    },
    {
      "cell_type": "markdown",
      "metadata": {
        "id": "Bb8VoXDioqmL"
      },
      "source": [
        "### 분류 또는 회귀용 데이터 세트\n",
        "\n",
        "| API | 설명 |\n",
        "|-----|------|\n",
        "| `datasets.load_boston()` | 미국 보스턴의 집에 대한 특징과 가격 데이터 (회귀용) |\n",
        "| `datasets.load_breast_cancer()` | 위스콘신 유방암 특징들과 악성/음성 레이블 데이터 (분류용) |\n",
        "| `datasets.load_diabetes()` | 당뇨 데이터 (회귀용) |\n",
        "| `datasets.load_digits()` | 0에서 9까지 숫자 이미지 픽셀 데이터 (분류용) |\n",
        "| `datasets.load_iris()` | 붓꽃에 대한 특징을 가진 데이터 (분류용) |"
      ]
    },
    {
      "cell_type": "markdown",
      "metadata": {
        "id": "LbpkiHGK1Tce"
      },
      "source": [
        "### 온라인 데이터 세트\n",
        "\n",
        "* 데이터 크기가 커서 온라인에서 데이터를 다운로드 한 후에 불러오는 예제 데이터 세트\n",
        "\n",
        "| API | 설명 |\n",
        "|-----|------|\n",
        "| `fetch_california_housing()` | 캘리포니아 주택 가격 데이터 |\n",
        "| `fetch_covtype()` | 회귀 분석용 토지 조사 데이터 |\n",
        "| `fetch_20newsgroups()` | 뉴스 그룹 텍스트 데이터 |\n",
        "| `fetch_olivetti_faces()` | 얼굴 이미지 데이터 |\n",
        "| `fetch_lfw_people()` | 얼굴 이미지 데이터 |\n",
        "| `fetch_lfw_paris()` | 얼굴 이미지 데이터 |\n",
        "| `fetch_rcv1()` | 로이터 뉴스 말뭉치 데이터 |\n",
        "| `fetch_mldata()` | ML 웹사이트에서 다운로드 |"
      ]
    },
    {
      "cell_type": "markdown",
      "metadata": {
        "id": "sRecl-l_1UFE"
      },
      "source": [
        "### 분류와 클러스터링을 위한 표본 데이터 생성\n",
        "\n",
        "| API | 설명 |\n",
        "|-----|------|\n",
        "| `datasets.make_classifications()` | 분류를 위한 데이터 세트 생성. 높은 상관도, 불필요한 속성 등의 노이즈를 고려한 데이터를 무작위로 생성 |\n",
        "| `datasets.make_blobs()` | 클러스터링을 위한 데이터 세트 생성. 군집 지정 개수에 따라 여러 가지 클러스터링을 위한 데이터 셋트를 무작위로 생성 |"
      ]
    },
    {
      "cell_type": "markdown",
      "metadata": {
        "id": "gn8I5U0D4tP7"
      },
      "source": [
        "### 예제 데이터 세트 구조\n",
        "\n",
        "* 일반적으로 딕셔너리 형태로 구성\n",
        "* data: 특징 데이터 세트\n",
        "* target: 분류용은 레이블 값, 회귀용은 숫자 결과값 데이터\n",
        "* target_names: 개별 레이블의 이름 (분류용)\n",
        "* feature_names: 특징 이름\n",
        "* DESCR: 데이터 세트에 대한 설명과 각 특징 설명"
      ]
    },
    {
      "cell_type": "code",
      "metadata": {
        "id": "J4Xvo4kg6dHS"
      },
      "source": [
        ""
      ],
      "execution_count": null,
      "outputs": []
    },
    {
      "cell_type": "code",
      "metadata": {
        "id": "yuvZHGQ18cX-"
      },
      "source": [
        ""
      ],
      "execution_count": null,
      "outputs": []
    },
    {
      "cell_type": "code",
      "metadata": {
        "id": "BRmFh1oP8iKs"
      },
      "source": [
        ""
      ],
      "execution_count": null,
      "outputs": []
    },
    {
      "cell_type": "code",
      "metadata": {
        "id": "GIg2ZbjG9XBm"
      },
      "source": [
        ""
      ],
      "execution_count": null,
      "outputs": []
    },
    {
      "cell_type": "code",
      "metadata": {
        "id": "6vLjpUAl8y3Z"
      },
      "source": [
        ""
      ],
      "execution_count": null,
      "outputs": []
    },
    {
      "cell_type": "code",
      "metadata": {
        "id": "RoSlB1kM8lpR"
      },
      "source": [
        ""
      ],
      "execution_count": null,
      "outputs": []
    },
    {
      "cell_type": "markdown",
      "metadata": {
        "id": "sK7Xxb-4-s9r"
      },
      "source": [
        "## `model_selection` 모듈\n",
        "\n",
        "* 학습용 데이터와 테스트 데이터로 분리\n",
        "* 교차 검증 분할 및 평가\n",
        "* Estimator의 하이퍼 파라미터 튜닝을 위한 다양한 함수와 클래스 제공"
      ]
    },
    {
      "cell_type": "markdown",
      "metadata": {
        "id": "WoulI5Vo_C_Y"
      },
      "source": [
        "### `train_test_split()`: 학습/테스트 데이터 세트 분리"
      ]
    },
    {
      "cell_type": "code",
      "metadata": {
        "id": "p6g2drBI_CFw"
      },
      "source": [
        ""
      ],
      "execution_count": null,
      "outputs": []
    },
    {
      "cell_type": "code",
      "metadata": {
        "id": "8vZFyqaoCpEC"
      },
      "source": [
        ""
      ],
      "execution_count": null,
      "outputs": []
    },
    {
      "cell_type": "markdown",
      "metadata": {
        "id": "ngFG3QwGD4e2"
      },
      "source": [
        "### `cross_val_score()`: 교차 검증"
      ]
    },
    {
      "cell_type": "code",
      "metadata": {
        "id": "wnQp6pPTD9JM"
      },
      "source": [
        ""
      ],
      "execution_count": null,
      "outputs": []
    },
    {
      "cell_type": "markdown",
      "metadata": {
        "id": "zpgCUVF7XN5x"
      },
      "source": [
        "### `GridSearchCV`: 교차 검증과 최적 하이퍼 파라미터 찾기\n",
        "\n",
        "* 훈련 단계에서 학습한 파라미터에 영향을 받아서 최상의 파라미터를 찾는 일은 항상 어려운 문제\n",
        "* 다양한 모델의 훈련 과정을 자동화하고, 교차 검사를 사용해 최적 값을 제공하는 도구 필요"
      ]
    },
    {
      "cell_type": "code",
      "metadata": {
        "id": "xd96K4CuXMrU"
      },
      "source": [
        ""
      ],
      "execution_count": null,
      "outputs": []
    },
    {
      "cell_type": "markdown",
      "metadata": {
        "id": "X6tTVC3sagc9"
      },
      "source": [
        "* `multiprocessing`을 이용한 `GridSearchCV`"
      ]
    },
    {
      "cell_type": "code",
      "metadata": {
        "id": "PKxQLen3aBxT"
      },
      "source": [
        ""
      ],
      "execution_count": null,
      "outputs": []
    },
    {
      "cell_type": "markdown",
      "metadata": {
        "id": "M5_bY2inmPfQ"
      },
      "source": [
        "## `preprocessing` 데이터 전처리 모듈\n",
        "\n",
        "* 데이터의 특징 스케일링(feature scaling)을 위한 방법으로 표준화(Standardization)와 정규화(Normalization) 사용\n",
        "\n",
        "+ 표준화 방법\n",
        "\n",
        "\\begin{equation}\n",
        "x_i^{'} = \\frac{x_i-mean(x)}{stdev(x)}\n",
        "\\end{equation}\n",
        "\n",
        "+ 정규화 방법\n",
        "\n",
        "\\begin{equation}\n",
        "x_i^{'} = \\frac{x_i-min(x)}{max(x)-min(x)}\n",
        "\\end{equation}\n",
        "\n",
        "+ scikit-learn에서는 개별 벡터 크기를 맞추는 형태로 정규화"
      ]
    },
    {
      "cell_type": "markdown",
      "metadata": {
        "id": "fzdqo4OSrhDI"
      },
      "source": [
        "### `StandardScaler`: 표준화 클래스"
      ]
    },
    {
      "cell_type": "code",
      "metadata": {
        "id": "S3VZVnnyso1m"
      },
      "source": [
        ""
      ],
      "execution_count": null,
      "outputs": []
    },
    {
      "cell_type": "code",
      "metadata": {
        "id": "rGtTNBFquBIS"
      },
      "source": [
        ""
      ],
      "execution_count": null,
      "outputs": []
    },
    {
      "cell_type": "code",
      "metadata": {
        "id": "UwYeH_9k_Rog"
      },
      "source": [
        ""
      ],
      "execution_count": null,
      "outputs": []
    },
    {
      "cell_type": "markdown",
      "metadata": {
        "id": "2TctmHqowvBG"
      },
      "source": [
        "### `MinMaxScaler`: 정규화 클래스"
      ]
    },
    {
      "cell_type": "code",
      "metadata": {
        "id": "u5_id8diw6l-"
      },
      "source": [
        ""
      ],
      "execution_count": null,
      "outputs": []
    },
    {
      "cell_type": "code",
      "metadata": {
        "id": "nDmNGhWxy3NN"
      },
      "source": [
        ""
      ],
      "execution_count": null,
      "outputs": []
    },
    {
      "cell_type": "markdown",
      "metadata": {
        "id": "GleRpgpOAVPE"
      },
      "source": [
        "## 성능 평가 지표"
      ]
    },
    {
      "cell_type": "markdown",
      "metadata": {
        "id": "ZW0mVKVBApg5"
      },
      "source": [
        "### 정확도(Accuracy)\n",
        "\n",
        "* 정확도는 전체 예측 데이터 건수 중 예측 결과가 동일한 데이터 건수로 계산\n",
        "* scikit-learn에서는 `accuracy_score` 함수를 제공\n",
        "\n"
      ]
    },
    {
      "cell_type": "code",
      "metadata": {
        "id": "o5bYSmjiBOXK"
      },
      "source": [
        ""
      ],
      "execution_count": null,
      "outputs": []
    },
    {
      "cell_type": "markdown",
      "metadata": {
        "id": "lEsjYTnbDR3A"
      },
      "source": [
        "### 오차 행렬(Confusion Matrix)\n",
        "\n",
        "* True Negative: 예측값을 Negative 값 0으로 예측했고, 실제 값도 Negative 값 0\n",
        "* False Positive: 예측값을 Positive 값 1로 예측했는데, 실제 값은 Negative 값 0\n",
        "* False Negative: 예측값을 Negative 값 0으로 예측했는데, 실제 값은 Positive 값 1\n",
        "* True Positive: 예측값을 Positive 값 1로 예측했고, 실제 값도 Positive 값 1"
      ]
    },
    {
      "cell_type": "code",
      "metadata": {
        "id": "pYeVwfICEKcL"
      },
      "source": [
        ""
      ],
      "execution_count": null,
      "outputs": []
    },
    {
      "cell_type": "code",
      "metadata": {
        "id": "ow3jcKmgEspA"
      },
      "source": [
        ""
      ],
      "execution_count": null,
      "outputs": []
    },
    {
      "cell_type": "markdown",
      "metadata": {
        "id": "LLf4sth1FsQ_"
      },
      "source": [
        "### 정밀도(Precision)와 재현율(Recall)\n",
        "\n",
        "* 정밀도 = TP / (FP + TP)\n",
        "* 재현율 = TP / (FN + TP)\n",
        "\n",
        "* 정확도 = (TN + TP) / (TN + FP + FN + TP)\n",
        "* 오류율 = (FN + FP) / (TN + FP + FN + TP)"
      ]
    },
    {
      "cell_type": "code",
      "metadata": {
        "id": "liPg5IBuGhpj"
      },
      "source": [
        ""
      ],
      "execution_count": null,
      "outputs": []
    },
    {
      "cell_type": "markdown",
      "metadata": {
        "id": "iFeWdm3ZK-vW"
      },
      "source": [
        "### F1 Score(F-measure)\n",
        "\n",
        "* 정밀도와 재현율을 결합한 지표\n",
        "* 정밀도와 재현율이 어느 한쪽으로 치우치지 않을 때 높은 값을 가짐\n",
        "\n",
        "\\begin{equation}\n",
        "F1 = 2 \\times \\frac{precision \\times recall}{precision + recall}\n",
        "\\end{equation}\n"
      ]
    },
    {
      "cell_type": "code",
      "metadata": {
        "id": "f5atW1FDLu-s"
      },
      "source": [
        ""
      ],
      "execution_count": null,
      "outputs": []
    },
    {
      "cell_type": "markdown",
      "metadata": {
        "id": "OtgHCc08OAKp"
      },
      "source": [
        "### ROC 곡선과 AUC\n",
        "\n",
        "* ROC 곡선은 FPR(False Positive Rate)이 변할 때 TPR(True Positive Rate)이 어떻게 변하는지 나타내는 곡선\n",
        "  + TPR(True Positive Rate): TP / (FN + TP), 재현율\n",
        "  + TNR(True Negative Rate): TN / (FP + TN)\n",
        "  + FPR(False Positive Rate): FP / (FP + TN), 1 - TNR\n",
        "\n",
        "* AUC(Area Under Curve) 값은 ROC 곡선 밑에 면적을 구한 값 (1이 가까울수록 좋은 값)"
      ]
    },
    {
      "cell_type": "code",
      "metadata": {
        "id": "qqVAbkiNU1UL"
      },
      "source": [
        ""
      ],
      "execution_count": null,
      "outputs": []
    },
    {
      "cell_type": "code",
      "metadata": {
        "id": "WYMKyuPKWFNF"
      },
      "source": [
        ""
      ],
      "execution_count": null,
      "outputs": []
    },
    {
      "cell_type": "markdown",
      "metadata": {
        "id": "R0H5n_UgMIx8"
      },
      "source": [
        "## 참고문헌\n",
        "\n",
        "* scikit-learn 사이트: https://scikit-learn.org/\n",
        "* Jake VanderPlas, \"Python Data Science Handbook\", O'Reilly\n",
        "* Sebastian Raschka, Vahid Mirjalili, \"Python Machine Learning\", Packt\n",
        "* Giuseppe Bonaccorso, \"Machine Learning Algorithm\", Packt\n",
        "* Aurelien Geron, \"Hands-On Machine Learning with Scikit-Learn, Keras, and TensorFlow: Concepts, Tools, and Techniques to Build Intelligent Systems\", O'Reilly"
      ]
    }
  ]
}