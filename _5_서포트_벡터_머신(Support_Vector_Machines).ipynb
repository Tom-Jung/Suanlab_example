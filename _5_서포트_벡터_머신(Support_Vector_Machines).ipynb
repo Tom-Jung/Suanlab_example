{
  "nbformat": 4,
  "nbformat_minor": 0,
  "metadata": {
    "colab": {
      "name": "_5 서포트 벡터 머신(Support Vector Machines).ipynb",
      "provenance": [],
      "collapsed_sections": [],
      "include_colab_link": true
    },
    "kernelspec": {
      "name": "python3",
      "display_name": "Python 3"
    }
  },
  "cells": [
    {
      "cell_type": "markdown",
      "metadata": {
        "id": "view-in-github",
        "colab_type": "text"
      },
      "source": [
        "<a href=\"https://colab.research.google.com/github/Tom-Jung/Suanlab_example/blob/main/_5_%EC%84%9C%ED%8F%AC%ED%8A%B8_%EB%B2%A1%ED%84%B0_%EB%A8%B8%EC%8B%A0(Support_Vector_Machines).ipynb\" target=\"_parent\"><img src=\"https://colab.research.google.com/assets/colab-badge.svg\" alt=\"Open In Colab\"/></a>"
      ]
    },
    {
      "cell_type": "markdown",
      "metadata": {
        "id": "g63soNOvFUSa"
      },
      "source": [
        "# 서포트 벡터 머신(Support Vector Machines)"
      ]
    },
    {
      "cell_type": "markdown",
      "metadata": {
        "id": "Rrbp02Mk5CDA"
      },
      "source": [
        "* 회귀, 분류, 이상치 탐지 등에 사용되는 지도학습 방법\n",
        "* 클래스 사이의 경계에 위치한 데이터 포인트를 서포트 벡터(support vector)라고 함\n",
        "* 각 지지 벡터가 클래스 사이의 결정 경계를 구분하는데 얼마나 중요한지를 학습\n",
        "* 각 지지 벡터 사이의 마진이 가장 큰 방향으로 학습\n",
        "* 지지 벡터 까지의 거리와 지지 벡터의 중요도를 기반으로 예측을 수행\n",
        "\n",
        "![support vector machine](https://upload.wikimedia.org/wikipedia/commons/thumb/2/20/Svm_separating_hyperplanes.png/220px-Svm_separating_hyperplanes.png)\n",
        "\n",
        "* H3은 두 클래스의 점들을 제대로 분류하고 있지 않음\n",
        "* H1과 H2는 두 클래스의 점들을 분류하는데, H2가 H1보다 더 큰 마진을 갖고 분류하는 것을 확인할 수 있음"
      ]
    },
    {
      "cell_type": "code",
      "metadata": {
        "id": "zBilnkAn4_U3"
      },
      "source": [
        "import multiprocessing\n",
        "import pandas as pd\n",
        "import numpy as np\n",
        "import matplotlib.pyplot as plt\n",
        "plt.style.use(['seaborn-whitegrid'])"
      ],
      "execution_count": 154,
      "outputs": []
    },
    {
      "cell_type": "code",
      "metadata": {
        "id": "1YRJRPy6hTe0"
      },
      "source": [
        "from sklearn.svm import SVR, SVC\n",
        "from sklearn.datasets import load_boston, load_diabetes, load_breast_cancer, load_iris, load_wine\n",
        "from sklearn.pipeline import make_pipeline, Pipeline\n",
        "from sklearn.model_selection import train_test_split, cross_validate, GridSearchCV\n",
        "from sklearn.preprocessing import StandardScaler, MinMaxScaler\n",
        "from sklearn.manifold import TSNE"
      ],
      "execution_count": 155,
      "outputs": []
    },
    {
      "cell_type": "markdown",
      "metadata": {
        "id": "UxS0mPsCh4l0"
      },
      "source": [
        "## SVM을 이용한 회귀 모델과 분류 모델"
      ]
    },
    {
      "cell_type": "markdown",
      "metadata": {
        "id": "NTtcx3p8wtNX"
      },
      "source": [
        "### SVM을 사용한 회귀 모델 (SVR)"
      ]
    },
    {
      "cell_type": "code",
      "metadata": {
        "id": "sCrhSrMf5BqB",
        "colab": {
          "base_uri": "https://localhost:8080/"
        },
        "outputId": "5576d71b-c76d-40f4-e803-2ad2cd687c4a"
      },
      "source": [
        "X, y = load_boston(return_X_y=True)\n",
        "X_train,X_test, y_train, y_test = train_test_split(X,y,random_state=123)\n",
        "\n",
        "model = SVR()\n",
        "model.fit(X_train, y_train)\n",
        "\n",
        "print(\"학습 데이터 점수 : {}\".format(model.score(X_train,y_train)))\n",
        "print(\"평가 데이터 점수 : {}\".format(model.score(X_test,y_test)))"
      ],
      "execution_count": 197,
      "outputs": [
        {
          "output_type": "stream",
          "name": "stdout",
          "text": [
            "학습 데이터 점수 : 0.2177283706374875\n",
            "평가 데이터 점수 : 0.13544178468518187\n"
          ]
        },
        {
          "output_type": "stream",
          "name": "stderr",
          "text": [
            "/usr/local/lib/python3.7/dist-packages/sklearn/utils/deprecation.py:87: FutureWarning: Function load_boston is deprecated; `load_boston` is deprecated in 1.0 and will be removed in 1.2.\n",
            "\n",
            "    The Boston housing prices dataset has an ethical problem. You can refer to\n",
            "    the documentation of this function for further details.\n",
            "\n",
            "    The scikit-learn maintainers therefore strongly discourage the use of this\n",
            "    dataset unless the purpose of the code is to study and educate about\n",
            "    ethical issues in data science and machine learning.\n",
            "\n",
            "    In this special case, you can fetch the dataset from the original\n",
            "    source::\n",
            "\n",
            "        import pandas as pd\n",
            "        import numpy as np\n",
            "\n",
            "\n",
            "        data_url = \"http://lib.stat.cmu.edu/datasets/boston\"\n",
            "        raw_df = pd.read_csv(data_url, sep=\"\\s+\", skiprows=22, header=None)\n",
            "        data = np.hstack([raw_df.values[::2, :], raw_df.values[1::2, :2]])\n",
            "        target = raw_df.values[1::2, 2]\n",
            "\n",
            "    Alternative datasets include the California housing dataset (i.e.\n",
            "    :func:`~sklearn.datasets.fetch_california_housing`) and the Ames housing\n",
            "    dataset. You can load the datasets as follows::\n",
            "\n",
            "        from sklearn.datasets import fetch_california_housing\n",
            "        housing = fetch_california_housing()\n",
            "\n",
            "    for the California housing dataset and::\n",
            "\n",
            "        from sklearn.datasets import fetch_openml\n",
            "        housing = fetch_openml(name=\"house_prices\", as_frame=True)\n",
            "\n",
            "    for the Ames housing dataset.\n",
            "    \n",
            "  warnings.warn(msg, category=FutureWarning)\n"
          ]
        }
      ]
    },
    {
      "cell_type": "markdown",
      "metadata": {
        "id": "CQraX6MzwvtE"
      },
      "source": [
        "### SVM을 사용한 분류 모델 (SVC)"
      ]
    },
    {
      "cell_type": "code",
      "metadata": {
        "id": "bnh5fS8gFbtK",
        "colab": {
          "base_uri": "https://localhost:8080/"
        },
        "outputId": "465f35ba-993a-4b42-80b9-41df1505e9c2"
      },
      "source": [
        "X, y = load_breast_cancer(return_X_y=True)\n",
        "X_train,X_test, y_train, y_test = train_test_split(X,y,random_state=123)\n",
        "\n",
        "model = SVC()\n",
        "model.fit(X_train, y_train)\n",
        "\n",
        "print(\"학습 데이터 점수 : {}\".format(model.score(X_train,y_train)))\n",
        "print(\"평가 데이터 점수 : {}\".format(model.score(X_test,y_test)))"
      ],
      "execution_count": 198,
      "outputs": [
        {
          "output_type": "stream",
          "name": "stdout",
          "text": [
            "학습 데이터 점수 : 0.9014084507042254\n",
            "평가 데이터 점수 : 0.9230769230769231\n"
          ]
        }
      ]
    },
    {
      "cell_type": "markdown",
      "metadata": {
        "id": "zgd_dvKrGeFh"
      },
      "source": [
        "## 커널 기법\n",
        "\n",
        "* 입력 데이터를 고차원 공간에 사상해서 비선형 특징을 학습할 수 있도록 확장하는 방법\n",
        "* scikit-learn에서는 Linear, Polynomial, RBF(Radial Basis Function)등 다양한 커널 기법을 지원\n",
        "\n",
        "![kernel trick](https://scikit-learn.org/stable/_images/sphx_glr_plot_iris_svc_0011.png)"
      ]
    },
    {
      "cell_type": "code",
      "metadata": {
        "id": "Azq1UJtZF8sU",
        "colab": {
          "base_uri": "https://localhost:8080/"
        },
        "outputId": "7aa821b5-7fcf-42b6-ac69-4f0f1f92b660"
      },
      "source": [
        "X, y=load_boston(return_X_y=True)\n",
        "X_train, X_test, y_train, y_test = train_test_split(X,y,random_state=123)\n",
        "\n",
        "linear_svr = SVR(kernel='linear')\n",
        "linear_svr.fit(X_train, y_train)\n",
        "\n",
        "print(\"학습 데이터 점수 : {}\".format(linear_svr.score(X_train,y_train)))\n",
        "print(\"평가 데이터 점수 : {}\".format(linear_svr.score(X_test,y_test)))\n",
        "\n",
        "polynomial_svr = SVR(kernel='poly')\n",
        "polynomial_svr.fit(X_train, y_train)\n",
        "\n",
        "print(\"Polynomial SVR 학습 데이터 점수 : {}\".format(polynomial_svr.score(X_train,y_train)))\n",
        "print(\"Polynomial SVR 평가 데이터 점수 : {}\".format(polynomial_svr.score(X_test,y_test)))\n",
        "\n",
        "rbf_svr = SVR(kernel='rbf')\n",
        "rbf_svr.fit(X_train, y_train)\n",
        "\n",
        "print(\" RBF SVR 학습 데이터 점수 : {}\".format(rbf_svr.score(X_train,y_train)))\n",
        "print(\"RBF SVR  평가 데이터 점수 : {}\".format(rbf_svr.score(X_test,y_test)))"
      ],
      "execution_count": 158,
      "outputs": [
        {
          "output_type": "stream",
          "name": "stderr",
          "text": [
            "/usr/local/lib/python3.7/dist-packages/sklearn/utils/deprecation.py:87: FutureWarning: Function load_boston is deprecated; `load_boston` is deprecated in 1.0 and will be removed in 1.2.\n",
            "\n",
            "    The Boston housing prices dataset has an ethical problem. You can refer to\n",
            "    the documentation of this function for further details.\n",
            "\n",
            "    The scikit-learn maintainers therefore strongly discourage the use of this\n",
            "    dataset unless the purpose of the code is to study and educate about\n",
            "    ethical issues in data science and machine learning.\n",
            "\n",
            "    In this special case, you can fetch the dataset from the original\n",
            "    source::\n",
            "\n",
            "        import pandas as pd\n",
            "        import numpy as np\n",
            "\n",
            "\n",
            "        data_url = \"http://lib.stat.cmu.edu/datasets/boston\"\n",
            "        raw_df = pd.read_csv(data_url, sep=\"\\s+\", skiprows=22, header=None)\n",
            "        data = np.hstack([raw_df.values[::2, :], raw_df.values[1::2, :2]])\n",
            "        target = raw_df.values[1::2, 2]\n",
            "\n",
            "    Alternative datasets include the California housing dataset (i.e.\n",
            "    :func:`~sklearn.datasets.fetch_california_housing`) and the Ames housing\n",
            "    dataset. You can load the datasets as follows::\n",
            "\n",
            "        from sklearn.datasets import fetch_california_housing\n",
            "        housing = fetch_california_housing()\n",
            "\n",
            "    for the California housing dataset and::\n",
            "\n",
            "        from sklearn.datasets import fetch_openml\n",
            "        housing = fetch_openml(name=\"house_prices\", as_frame=True)\n",
            "\n",
            "    for the Ames housing dataset.\n",
            "    \n",
            "  warnings.warn(msg, category=FutureWarning)\n"
          ]
        },
        {
          "output_type": "stream",
          "name": "stdout",
          "text": [
            "학습 데이터 점수 : 0.715506620496448\n",
            "평가 데이터 점수 : 0.6380398541506058\n",
            "Polynomial SVR 학습 데이터 점수 : 0.2024454261446289\n",
            "Polynomial SVR 평가 데이터 점수 : 0.133668450367462\n",
            " RBF SVR 학습 데이터 점수 : 0.2177283706374875\n",
            "RBF SVR  평가 데이터 점수 : 0.13544178468518187\n"
          ]
        }
      ]
    },
    {
      "cell_type": "code",
      "metadata": {
        "id": "KuvRIzarJO0H",
        "colab": {
          "base_uri": "https://localhost:8080/"
        },
        "outputId": "0b7b8c41-2046-49a6-b004-65ed59f15775"
      },
      "source": [
        "X, y=load_breast_cancer(return_X_y=True)\n",
        "X_train, X_test, y_train, y_test = train_test_split(X,y,random_state=123)\n",
        "\n",
        "linear_svc = SVC(kernel='linear')\n",
        "linear_svc.fit(X_train, y_train)\n",
        "\n",
        "print(\"학습 데이터 점수 : {}\".format(linear_svc.score(X_train,y_train)))\n",
        "print(\"평가 데이터 점수 : {}\".format(linear_svc.score(X_test,y_test)))\n",
        "\n",
        "polynomial_svc = SVC(kernel='poly')\n",
        "polynomial_svc.fit(X_train, y_train)\n",
        "\n",
        "print(\"Polynomial SVC 학습 데이터 점수 : {}\".format(polynomial_svc.score(X_train,y_train)))\n",
        "print(\"Polynomial SVC 평가 데이터 점수 : {}\".format(polynomial_svc.score(X_test,y_test)))\n",
        "\n",
        "rbf_svc = SVC(kernel='rbf')\n",
        "rbf_svc.fit(X_train, y_train)\n",
        "\n",
        "print(\" RBF SVC 학습 데이터 점수 : {}\".format(rbf_svc.score(X_train,y_train)))\n",
        "print(\"RBF SVC  평가 데이터 점수 : {}\".format(rbf_svc.score(X_test,y_test)))"
      ],
      "execution_count": 159,
      "outputs": [
        {
          "output_type": "stream",
          "name": "stdout",
          "text": [
            "학습 데이터 점수 : 0.960093896713615\n",
            "평가 데이터 점수 : 0.986013986013986\n",
            "Polynomial SVC 학습 데이터 점수 : 0.9014084507042254\n",
            "Polynomial SVC 평가 데이터 점수 : 0.9230769230769231\n",
            " RBF SVC 학습 데이터 점수 : 0.9014084507042254\n",
            "RBF SVC  평가 데이터 점수 : 0.9230769230769231\n"
          ]
        }
      ]
    },
    {
      "cell_type": "markdown",
      "metadata": {
        "id": "ysbUu5o3Lm2V"
      },
      "source": [
        "## 매개변수 튜닝\n",
        "\n",
        "* SVM은 사용하는 커널에 따라 다양한 매개변수 설정 가능\n",
        "* 매개변수를 변경하면서 성능변화를 관찰"
      ]
    },
    {
      "cell_type": "code",
      "metadata": {
        "id": "JyCxM4abOZyO"
      },
      "source": [
        "X, y=load_breast_cancer(return_X_y=True)\n",
        "X_train, X_test, y_train, y_test = train_test_split(X,y,random_state=123)"
      ],
      "execution_count": 160,
      "outputs": []
    },
    {
      "cell_type": "code",
      "metadata": {
        "id": "QN4BSxiaJspb",
        "colab": {
          "base_uri": "https://localhost:8080/"
        },
        "outputId": "3bc7aed5-3d0c-4a8a-d9c6-712abc7056fd"
      },
      "source": [
        "polynomial_svc = SVC(kernel='poly', degree=2, C=0.1, gamma='auto')\n",
        "polynomial_svc.fit(X_train, y_train)\n",
        "\n",
        "print(\"kernel=poly, degree={}, C={}, gamma={}\".format(2, 0.1, 'auto'))\n",
        "print(\"Polynomial SVC 학습 데이터 점수 : {}\".format(polynomial_svc.score(X_train,y_train)))\n",
        "print(\"Polynomial SVC 평가 데이터 점수 : {}\".format(polynomial_svc.score(X_test,y_test)))"
      ],
      "execution_count": 161,
      "outputs": [
        {
          "output_type": "stream",
          "name": "stdout",
          "text": [
            "kernel=poly, degree=2, C=0.1, gamma=auto\n",
            "Polynomial SVC 학습 데이터 점수 : 0.9835680751173709\n",
            "Polynomial SVC 평가 데이터 점수 : 0.993006993006993\n"
          ]
        }
      ]
    },
    {
      "cell_type": "code",
      "metadata": {
        "id": "P7hOhO1oOvVC",
        "colab": {
          "base_uri": "https://localhost:8080/"
        },
        "outputId": "652bb28d-4f75-4530-8a78-50767cd6cce9"
      },
      "source": [
        "rbf_svc = SVC(kernel='rbf', C=2.0, gamma='scale')\n",
        "rbf_svc.fit(X_train, y_train)\n",
        "\n",
        "print(\"kernel=rbf, C={}, gamma={}\".format(2.0, 'scale'))\n",
        "print(\"RBF SVC 학습 데이터 점수 : {}\".format(rbf_svc.score(X_train,y_train)))\n",
        "print(\"RBF SVC 평가 데이터 점수 : {}\".format(rbf_svc.score(X_test,y_test)))"
      ],
      "execution_count": 162,
      "outputs": [
        {
          "output_type": "stream",
          "name": "stdout",
          "text": [
            "kernel=rbf, C=2.0, gamma=scale\n",
            "RBF SVC 학습 데이터 점수 : 0.9154929577464789\n",
            "RBF SVC 평가 데이터 점수 : 0.9370629370629371\n"
          ]
        }
      ]
    },
    {
      "cell_type": "markdown",
      "metadata": {
        "id": "aEQL8h8WU0An"
      },
      "source": [
        "## 데이터 전처리\n",
        "\n",
        "* SVM은 입력 데이터가 정규화 되어야 좋은 성능을 보임\n",
        "* 주로 모든 특성 값을 [0, 1] 범위로 맞추는 방법을 사용\n",
        "* scikit-learn의 StandardScaler 또는 MinMaxScaler를 사용해 정규화"
      ]
    },
    {
      "cell_type": "code",
      "metadata": {
        "id": "RujhqUOsVU73"
      },
      "source": [
        "X, y=load_breast_cancer(return_X_y=True)\n",
        "X_train, X_test, y_train, y_test = train_test_split(X,y,random_state=123)"
      ],
      "execution_count": 163,
      "outputs": []
    },
    {
      "cell_type": "code",
      "metadata": {
        "id": "DWau9A6UWds4",
        "colab": {
          "base_uri": "https://localhost:8080/"
        },
        "outputId": "68f51b01-5d2d-40a8-9c5d-13ef670ddc80"
      },
      "source": [
        "model = SVC()\n",
        "model.fit(X_train, y_train)\n",
        "\n",
        "print(\" SVC 학습 데이터 점수 : {}\".format(model.score(X_train,y_train)))\n",
        "print(\" SVC  평가 데이터 점수 : {}\".format(model.score(X_test,y_test)))"
      ],
      "execution_count": 164,
      "outputs": [
        {
          "output_type": "stream",
          "name": "stdout",
          "text": [
            " SVC 학습 데이터 점수 : 0.9014084507042254\n",
            " SVC  평가 데이터 점수 : 0.9230769230769231\n"
          ]
        }
      ]
    },
    {
      "cell_type": "code",
      "metadata": {
        "id": "y_ScHENS0ssY"
      },
      "source": [
        "scaler = StandardScaler()\n",
        "X_train = scaler.fit_transform(X_train)\n",
        "X_test = scaler.transform(X_test)"
      ],
      "execution_count": 165,
      "outputs": []
    },
    {
      "cell_type": "code",
      "metadata": {
        "id": "R2_4R6JE0ssi",
        "colab": {
          "base_uri": "https://localhost:8080/"
        },
        "outputId": "e4203570-3624-4a60-cbdc-df5fb18f5e1e"
      },
      "source": [
        "model = SVC()\n",
        "model.fit(X_train, y_train)\n",
        "\n",
        "print(\" SVC 학습 데이터 점수 : {}\".format(model.score(X_train,y_train)))\n",
        "print(\" SVC  평가 데이터 점수 : {}\".format(model.score(X_test,y_test)))"
      ],
      "execution_count": 166,
      "outputs": [
        {
          "output_type": "stream",
          "name": "stdout",
          "text": [
            " SVC 학습 데이터 점수 : 0.9835680751173709\n",
            " SVC  평가 데이터 점수 : 0.986013986013986\n"
          ]
        }
      ]
    },
    {
      "cell_type": "code",
      "metadata": {
        "id": "_EVkj33WVQOu"
      },
      "source": [
        "scaler = MinMaxScaler()\n",
        "X_train = scaler.fit_transform(X_train)\n",
        "X_test = scaler.transform(X_test)"
      ],
      "execution_count": 167,
      "outputs": []
    },
    {
      "cell_type": "code",
      "metadata": {
        "id": "D7Kj3q_bVmeN",
        "colab": {
          "base_uri": "https://localhost:8080/"
        },
        "outputId": "1d647511-4244-43ed-9d15-b4655271cbf2"
      },
      "source": [
        "model = SVC()\n",
        "model.fit(X_train, y_train)\n",
        "\n",
        "print(\" SVC 학습 데이터 점수 : {}\".format(model.score(X_train,y_train)))\n",
        "print(\" SVC  평가 데이터 점수 : {}\".format(model.score(X_test,y_test)))"
      ],
      "execution_count": 168,
      "outputs": [
        {
          "output_type": "stream",
          "name": "stdout",
          "text": [
            " SVC 학습 데이터 점수 : 0.9812206572769953\n",
            " SVC  평가 데이터 점수 : 0.986013986013986\n"
          ]
        }
      ]
    },
    {
      "cell_type": "markdown",
      "metadata": {
        "id": "zLjtZC7gYr7R"
      },
      "source": [
        "## Linear SVR"
      ]
    },
    {
      "cell_type": "markdown",
      "metadata": {
        "id": "tbZicmjAZBZp"
      },
      "source": [
        "### 보스턴 주택 가격"
      ]
    },
    {
      "cell_type": "code",
      "source": [
        "X, y=load_boston(return_X_y=True)\n",
        "X_train, X_test, y_train, y_test = train_test_split(X, y, test_size=0.2)"
      ],
      "metadata": {
        "colab": {
          "base_uri": "https://localhost:8080/"
        },
        "id": "DKxjbAPSApgq",
        "outputId": "8488d76e-6c24-4ad2-fe54-bb6125eecccd"
      },
      "execution_count": 169,
      "outputs": [
        {
          "output_type": "stream",
          "name": "stderr",
          "text": [
            "/usr/local/lib/python3.7/dist-packages/sklearn/utils/deprecation.py:87: FutureWarning: Function load_boston is deprecated; `load_boston` is deprecated in 1.0 and will be removed in 1.2.\n",
            "\n",
            "    The Boston housing prices dataset has an ethical problem. You can refer to\n",
            "    the documentation of this function for further details.\n",
            "\n",
            "    The scikit-learn maintainers therefore strongly discourage the use of this\n",
            "    dataset unless the purpose of the code is to study and educate about\n",
            "    ethical issues in data science and machine learning.\n",
            "\n",
            "    In this special case, you can fetch the dataset from the original\n",
            "    source::\n",
            "\n",
            "        import pandas as pd\n",
            "        import numpy as np\n",
            "\n",
            "\n",
            "        data_url = \"http://lib.stat.cmu.edu/datasets/boston\"\n",
            "        raw_df = pd.read_csv(data_url, sep=\"\\s+\", skiprows=22, header=None)\n",
            "        data = np.hstack([raw_df.values[::2, :], raw_df.values[1::2, :2]])\n",
            "        target = raw_df.values[1::2, 2]\n",
            "\n",
            "    Alternative datasets include the California housing dataset (i.e.\n",
            "    :func:`~sklearn.datasets.fetch_california_housing`) and the Ames housing\n",
            "    dataset. You can load the datasets as follows::\n",
            "\n",
            "        from sklearn.datasets import fetch_california_housing\n",
            "        housing = fetch_california_housing()\n",
            "\n",
            "    for the California housing dataset and::\n",
            "\n",
            "        from sklearn.datasets import fetch_openml\n",
            "        housing = fetch_openml(name=\"house_prices\", as_frame=True)\n",
            "\n",
            "    for the Ames housing dataset.\n",
            "    \n",
            "  warnings.warn(msg, category=FutureWarning)\n"
          ]
        }
      ]
    },
    {
      "cell_type": "code",
      "metadata": {
        "id": "I1TKwSKhdLaU"
      },
      "source": [
        "scaler = StandardScaler()\n",
        "scaler.fit(X_train)\n",
        "X_train = scaler.transform(X_train)\n",
        "X_test = scaler.transform(X_test)"
      ],
      "execution_count": 170,
      "outputs": []
    },
    {
      "cell_type": "code",
      "metadata": {
        "id": "deIvkeKRZqTU",
        "colab": {
          "base_uri": "https://localhost:8080/"
        },
        "outputId": "554e11b8-5ec2-4c63-bb35-58ac5b95b237"
      },
      "source": [
        "model = SVR(kernel='linear')\n",
        "model.fit(X_train, y_train)"
      ],
      "execution_count": 171,
      "outputs": [
        {
          "output_type": "execute_result",
          "data": {
            "text/plain": [
              "SVR(kernel='linear')"
            ]
          },
          "metadata": {},
          "execution_count": 171
        }
      ]
    },
    {
      "cell_type": "code",
      "metadata": {
        "id": "zEknoMb5aRBt",
        "colab": {
          "base_uri": "https://localhost:8080/"
        },
        "outputId": "6db02e15-eff9-425f-ff02-77b715f73453"
      },
      "source": [
        "print(\" 학습 데이터 점수 : {}\".format(model.score(X_train, y_train)))\n",
        "print(\" 평가 데이터 점수 : {}\".format(model.score(X_test, y_test)))"
      ],
      "execution_count": 172,
      "outputs": [
        {
          "output_type": "stream",
          "name": "stdout",
          "text": [
            " 학습 데이터 점수 : 0.7302121151690131\n",
            " 평가 데이터 점수 : 0.6430284938767392\n"
          ]
        }
      ]
    },
    {
      "cell_type": "code",
      "metadata": {
        "id": "S3ipWjbFiete",
        "colab": {
          "base_uri": "https://localhost:8080/",
          "height": 349
        },
        "outputId": "38789251-6092-44e3-80d4-7b44791371c5"
      },
      "source": [
        "X_comp = TSNE(n_components=1).fit_transform(X)\n",
        "plt.scatter(X_comp,y)"
      ],
      "execution_count": 173,
      "outputs": [
        {
          "output_type": "stream",
          "name": "stderr",
          "text": [
            "/usr/local/lib/python3.7/dist-packages/sklearn/manifold/_t_sne.py:783: FutureWarning: The default initialization in TSNE will change from 'random' to 'pca' in 1.2.\n",
            "  FutureWarning,\n",
            "/usr/local/lib/python3.7/dist-packages/sklearn/manifold/_t_sne.py:793: FutureWarning: The default learning rate in TSNE will change from 200.0 to 'auto' in 1.2.\n",
            "  FutureWarning,\n"
          ]
        },
        {
          "output_type": "execute_result",
          "data": {
            "text/plain": [
              "<matplotlib.collections.PathCollection at 0x7fa55ac75910>"
            ]
          },
          "metadata": {},
          "execution_count": 173
        },
        {
          "output_type": "display_data",
          "data": {
            "text/plain": [
              "<Figure size 432x288 with 1 Axes>"
            ],
            "image/png": "[encoded data removed]"
          },
          "metadata": {}
        }
      ]
    },
    {
      "cell_type": "code",
      "metadata": {
        "id": "X39InXCSYuPf",
        "colab": {
          "base_uri": "https://localhost:8080/"
        },
        "outputId": "abd2667c-87ba-4635-cd59-c4af49bfd0f1"
      },
      "source": [
        "X, y = load_boston(return_X_y = True)\n",
        "X_train, X_test, y_train, y_test = train_test_split(X,y,test_size=0.2)"
      ],
      "execution_count": 174,
      "outputs": [
        {
          "output_type": "stream",
          "name": "stderr",
          "text": [
            "/usr/local/lib/python3.7/dist-packages/sklearn/utils/deprecation.py:87: FutureWarning: Function load_boston is deprecated; `load_boston` is deprecated in 1.0 and will be removed in 1.2.\n",
            "\n",
            "    The Boston housing prices dataset has an ethical problem. You can refer to\n",
            "    the documentation of this function for further details.\n",
            "\n",
            "    The scikit-learn maintainers therefore strongly discourage the use of this\n",
            "    dataset unless the purpose of the code is to study and educate about\n",
            "    ethical issues in data science and machine learning.\n",
            "\n",
            "    In this special case, you can fetch the dataset from the original\n",
            "    source::\n",
            "\n",
            "        import pandas as pd\n",
            "        import numpy as np\n",
            "\n",
            "\n",
            "        data_url = \"http://lib.stat.cmu.edu/datasets/boston\"\n",
            "        raw_df = pd.read_csv(data_url, sep=\"\\s+\", skiprows=22, header=None)\n",
            "        data = np.hstack([raw_df.values[::2, :], raw_df.values[1::2, :2]])\n",
            "        target = raw_df.values[1::2, 2]\n",
            "\n",
            "    Alternative datasets include the California housing dataset (i.e.\n",
            "    :func:`~sklearn.datasets.fetch_california_housing`) and the Ames housing\n",
            "    dataset. You can load the datasets as follows::\n",
            "\n",
            "        from sklearn.datasets import fetch_california_housing\n",
            "        housing = fetch_california_housing()\n",
            "\n",
            "    for the California housing dataset and::\n",
            "\n",
            "        from sklearn.datasets import fetch_openml\n",
            "        housing = fetch_openml(name=\"house_prices\", as_frame=True)\n",
            "\n",
            "    for the Ames housing dataset.\n",
            "    \n",
            "  warnings.warn(msg, category=FutureWarning)\n"
          ]
        }
      ]
    },
    {
      "cell_type": "code",
      "metadata": {
        "id": "IqLc69hojcIr",
        "colab": {
          "base_uri": "https://localhost:8080/",
          "height": 279
        },
        "outputId": "055e05de-fb42-4933-9634-6f2d4c88cca1"
      },
      "source": [
        "model.fit(X_comp,y)\n",
        "predict=model.predict(X_comp)\n",
        "plt.scatter(X_comp,y)\n",
        "plt.scatter(X_comp,predict, color='r')"
      ],
      "execution_count": 175,
      "outputs": [
        {
          "output_type": "execute_result",
          "data": {
            "text/plain": [
              "<matplotlib.collections.PathCollection at 0x7fa55abd8090>"
            ]
          },
          "metadata": {},
          "execution_count": 175
        },
        {
          "output_type": "display_data",
          "data": {
            "text/plain": [
              "<Figure size 432x288 with 1 Axes>"
            ],
            "image/png": "[encoded data removed]"
          },
          "metadata": {}
        }
      ]
    },
    {
      "cell_type": "code",
      "metadata": {
        "id": "YzGeXLmZbGY7",
        "colab": {
          "base_uri": "https://localhost:8080/"
        },
        "outputId": "ab4c7951-1bcb-44f6-aad9-d3a2275c6202"
      },
      "source": [
        "estimator = make_pipeline(StandardScaler(), SVR(kernel='linear'))\n",
        "\n",
        "cross_validate(\n",
        "    estimator=estimator,\n",
        "    X=X,y=y,\n",
        "    cv=5,\n",
        "    n_jobs=multiprocessing.cpu_count(),\n",
        "    verbose=True\n",
        ")"
      ],
      "execution_count": 176,
      "outputs": [
        {
          "output_type": "stream",
          "name": "stderr",
          "text": [
            "[Parallel(n_jobs=2)]: Using backend LokyBackend with 2 concurrent workers.\n",
            "[Parallel(n_jobs=2)]: Done   5 out of   5 | elapsed:    0.1s finished\n"
          ]
        },
        {
          "output_type": "execute_result",
          "data": {
            "text/plain": [
              "{'fit_time': array([0.03611207, 0.02662015, 0.02546549, 0.02502823, 0.01587009]),\n",
              " 'score_time': array([0.00321937, 0.00309658, 0.00349617, 0.00323439, 0.0019033 ]),\n",
              " 'test_score': array([0.76908568, 0.72180141, 0.56428426, 0.14083339, 0.07810211])}"
            ]
          },
          "metadata": {},
          "execution_count": 176
        }
      ]
    },
    {
      "cell_type": "code",
      "metadata": {
        "id": "Hfo2Z6T5jo73",
        "colab": {
          "base_uri": "https://localhost:8080/"
        },
        "outputId": "f7666749-31c5-45fe-93a4-6450201333e0"
      },
      "source": [
        "pipe = Pipeline([('sacler', StandardScaler()),\n",
        "                      ('model', SVR(kernel='linear'))])\n",
        "\n",
        "param_grid =[{'model__gamma' : ['scale','auto'],\n",
        "                  'model__C' : [1.0,0.1,0.01],\n",
        "                  'model__epsilon' : [1.0,0.1,0.01]}]\n",
        "\n",
        "gs =GridSearchCV(\n",
        "    estimator=pipe,\n",
        "    param_grid=param_grid,\n",
        "    n_jobs=multiprocessing.cpu_count(),\n",
        "    cv=5,\n",
        "    verbose=True\n",
        ")\n",
        "\n",
        "gs.fit(X,y)"
      ],
      "execution_count": 177,
      "outputs": [
        {
          "output_type": "stream",
          "name": "stdout",
          "text": [
            "Fitting 5 folds for each of 18 candidates, totalling 90 fits\n"
          ]
        },
        {
          "output_type": "execute_result",
          "data": {
            "text/plain": [
              "GridSearchCV(cv=5,\n",
              "             estimator=Pipeline(steps=[('sacler', StandardScaler()),\n",
              "                                       ('model', SVR(kernel='linear'))]),\n",
              "             n_jobs=2,\n",
              "             param_grid=[{'model__C': [1.0, 0.1, 0.01],\n",
              "                          'model__epsilon': [1.0, 0.1, 0.01],\n",
              "                          'model__gamma': ['scale', 'auto']}],\n",
              "             verbose=True)"
            ]
          },
          "metadata": {},
          "execution_count": 177
        }
      ]
    },
    {
      "cell_type": "code",
      "metadata": {
        "id": "G1BG0w50iUNF",
        "colab": {
          "base_uri": "https://localhost:8080/"
        },
        "outputId": "10e2e70a-a1ec-4119-e560-a161ec2d469c"
      },
      "source": [
        "gs.best_estimator_"
      ],
      "execution_count": 178,
      "outputs": [
        {
          "output_type": "execute_result",
          "data": {
            "text/plain": [
              "Pipeline(steps=[('sacler', StandardScaler()),\n",
              "                ('model', SVR(C=0.1, epsilon=1.0, kernel='linear'))])"
            ]
          },
          "metadata": {},
          "execution_count": 178
        }
      ]
    },
    {
      "cell_type": "markdown",
      "metadata": {
        "id": "Tlmsj9sHlB_i"
      },
      "source": [
        "### 당뇨병"
      ]
    },
    {
      "cell_type": "code",
      "source": [
        "X, y=load_diabetes(return_X_y=True)\n",
        "X_train, X_test, y_train, y_test = train_test_split(X, y, test_size=0.2)"
      ],
      "metadata": {
        "id": "uHVwZITPB93W"
      },
      "execution_count": 179,
      "outputs": []
    },
    {
      "cell_type": "code",
      "metadata": {
        "id": "oqfBv7VKB93X"
      },
      "source": [
        "scaler = StandardScaler()\n",
        "scaler.fit(X_train)\n",
        "X_train = scaler.transform(X_train)\n",
        "X_test = scaler.transform(X_test)"
      ],
      "execution_count": 180,
      "outputs": []
    },
    {
      "cell_type": "code",
      "metadata": {
        "colab": {
          "base_uri": "https://localhost:8080/"
        },
        "outputId": "249295b3-0f7a-45e6-efb2-1561b8f2a175",
        "id": "ZhuFNTY8B93X"
      },
      "source": [
        "model = SVR(kernel='linear')\n",
        "model.fit(X_train, y_train)"
      ],
      "execution_count": 181,
      "outputs": [
        {
          "output_type": "execute_result",
          "data": {
            "text/plain": [
              "SVR(kernel='linear')"
            ]
          },
          "metadata": {},
          "execution_count": 181
        }
      ]
    },
    {
      "cell_type": "code",
      "metadata": {
        "colab": {
          "base_uri": "https://localhost:8080/"
        },
        "outputId": "4fe0d9e8-1cb7-4797-d07c-55b4043c184a",
        "id": "54d2ljFtB93X"
      },
      "source": [
        "print(\" 학습 데이터 점수 : {}\".format(model.score(X_train, y_train)))\n",
        "print(\" 평가 데이터 점수 : {}\".format(model.score(X_test, y_test)))"
      ],
      "execution_count": 182,
      "outputs": [
        {
          "output_type": "stream",
          "name": "stdout",
          "text": [
            " 학습 데이터 점수 : 0.49114294887489485\n",
            " 평가 데이터 점수 : 0.5235043246427685\n"
          ]
        }
      ]
    },
    {
      "cell_type": "code",
      "metadata": {
        "colab": {
          "base_uri": "https://localhost:8080/",
          "height": 349
        },
        "outputId": "bf763f30-4007-4472-af56-aaae70e6933c",
        "id": "GoHcwaHjB93X"
      },
      "source": [
        "X_comp = TSNE(n_components=1).fit_transform(X)\n",
        "plt.scatter(X_comp,y)"
      ],
      "execution_count": 183,
      "outputs": [
        {
          "output_type": "stream",
          "name": "stderr",
          "text": [
            "/usr/local/lib/python3.7/dist-packages/sklearn/manifold/_t_sne.py:783: FutureWarning: The default initialization in TSNE will change from 'random' to 'pca' in 1.2.\n",
            "  FutureWarning,\n",
            "/usr/local/lib/python3.7/dist-packages/sklearn/manifold/_t_sne.py:793: FutureWarning: The default learning rate in TSNE will change from 200.0 to 'auto' in 1.2.\n",
            "  FutureWarning,\n"
          ]
        },
        {
          "output_type": "execute_result",
          "data": {
            "text/plain": [
              "<matplotlib.collections.PathCollection at 0x7fa55abd8550>"
            ]
          },
          "metadata": {},
          "execution_count": 183
        },
        {
          "output_type": "display_data",
          "data": {
            "text/plain": [
              "<Figure size 432x288 with 1 Axes>"
            ],
            "image/png": "[encoded data removed]"
          },
          "metadata": {}
        }
      ]
    },
    {
      "cell_type": "code",
      "metadata": {
        "colab": {
          "base_uri": "https://localhost:8080/",
          "height": 279
        },
        "outputId": "7e6857fc-6f3b-4e11-89e1-c46ecc5621ff",
        "id": "koI_xy7YB93Y"
      },
      "source": [
        "model.fit(X_comp,y)\n",
        "predict=model.predict(X_comp)\n",
        "plt.scatter(X_comp,y)\n",
        "plt.scatter(X_comp,predict, color='r')"
      ],
      "execution_count": 184,
      "outputs": [
        {
          "output_type": "execute_result",
          "data": {
            "text/plain": [
              "<matplotlib.collections.PathCollection at 0x7fa55b13d950>"
            ]
          },
          "metadata": {},
          "execution_count": 184
        },
        {
          "output_type": "display_data",
          "data": {
            "text/plain": [
              "<Figure size 432x288 with 1 Axes>"
            ],
            "image/png": "[encoded data removed]"
          },
          "metadata": {}
        }
      ]
    },
    {
      "cell_type": "code",
      "metadata": {
        "colab": {
          "base_uri": "https://localhost:8080/"
        },
        "outputId": "e20e63c5-2914-4c62-e98c-b680bd8e3c44",
        "id": "QVlJbfQlB93Y"
      },
      "source": [
        "estimator = make_pipeline(StandardScaler(), SVR(kernel='linear'))\n",
        "\n",
        "cross_validate(\n",
        "    estimator=estimator,\n",
        "    X=X,y=y,\n",
        "    cv=5,\n",
        "    n_jobs=multiprocessing.cpu_count(),\n",
        "    verbose=True\n",
        ")"
      ],
      "execution_count": 185,
      "outputs": [
        {
          "output_type": "stream",
          "name": "stderr",
          "text": [
            "[Parallel(n_jobs=2)]: Using backend LokyBackend with 2 concurrent workers.\n",
            "[Parallel(n_jobs=2)]: Done   5 out of   5 | elapsed:    0.1s finished\n"
          ]
        },
        {
          "output_type": "execute_result",
          "data": {
            "text/plain": [
              "{'fit_time': array([0.027426  , 0.01734328, 0.01206326, 0.01246762, 0.00985122]),\n",
              " 'score_time': array([0.00289035, 0.00288129, 0.00240827, 0.00252581, 0.00148916]),\n",
              " 'test_score': array([0.43037242, 0.51653341, 0.48275332, 0.42247202, 0.53076481])}"
            ]
          },
          "metadata": {},
          "execution_count": 185
        }
      ]
    },
    {
      "cell_type": "code",
      "metadata": {
        "colab": {
          "base_uri": "https://localhost:8080/"
        },
        "outputId": "c37d171d-c377-41d6-e97b-d8c278b0bef6",
        "id": "Ithpmo61B93Y"
      },
      "source": [
        "pipe = Pipeline([('sacler', StandardScaler()),\n",
        "                      ('model', SVR(kernel='linear'))])\n",
        "\n",
        "param_grid =[{'model__gamma' : ['scale','auto'],\n",
        "                  'model__C' : [1.0,0.1,0.01],\n",
        "                  'model__epsilon' : [1.0,0.1,0.01]}]\n",
        "\n",
        "gs =GridSearchCV(\n",
        "    estimator=pipe,\n",
        "    param_grid=param_grid,\n",
        "    n_jobs=multiprocessing.cpu_count(),\n",
        "    cv=5,\n",
        "    verbose=True\n",
        ")\n",
        "\n",
        "gs.fit(X,y)"
      ],
      "execution_count": 186,
      "outputs": [
        {
          "output_type": "stream",
          "name": "stdout",
          "text": [
            "Fitting 5 folds for each of 18 candidates, totalling 90 fits\n"
          ]
        },
        {
          "output_type": "execute_result",
          "data": {
            "text/plain": [
              "GridSearchCV(cv=5,\n",
              "             estimator=Pipeline(steps=[('sacler', StandardScaler()),\n",
              "                                       ('model', SVR(kernel='linear'))]),\n",
              "             n_jobs=2,\n",
              "             param_grid=[{'model__C': [1.0, 0.1, 0.01],\n",
              "                          'model__epsilon': [1.0, 0.1, 0.01],\n",
              "                          'model__gamma': ['scale', 'auto']}],\n",
              "             verbose=True)"
            ]
          },
          "metadata": {},
          "execution_count": 186
        }
      ]
    },
    {
      "cell_type": "code",
      "metadata": {
        "colab": {
          "base_uri": "https://localhost:8080/"
        },
        "outputId": "bfa3bfc8-cf1f-4260-e546-f046219ef082",
        "id": "h_RNaNzqB93Y"
      },
      "source": [
        "gs.best_estimator_"
      ],
      "execution_count": 187,
      "outputs": [
        {
          "output_type": "execute_result",
          "data": {
            "text/plain": [
              "Pipeline(steps=[('sacler', StandardScaler()),\n",
              "                ('model', SVR(epsilon=1.0, kernel='linear'))])"
            ]
          },
          "metadata": {},
          "execution_count": 187
        }
      ]
    },
    {
      "cell_type": "markdown",
      "metadata": {
        "id": "4d3ZxGT-rzSF"
      },
      "source": [
        "## Kernel SVR"
      ]
    },
    {
      "cell_type": "markdown",
      "metadata": {
        "id": "sJ4hf_LMr6i4"
      },
      "source": [
        "### 보스턴 주택 가격"
      ]
    },
    {
      "cell_type": "code",
      "source": [
        "X, y=load_boston(return_X_y=True)\n",
        "X_train, X_test, y_train, y_test = train_test_split(X, y, test_size=0.2)"
      ],
      "metadata": {
        "outputId": "2fa44e20-44b1-4dd6-f679-6f5c1ba40702",
        "colab": {
          "base_uri": "https://localhost:8080/"
        },
        "id": "hIILlE64DXWD"
      },
      "execution_count": 203,
      "outputs": [
        {
          "output_type": "stream",
          "name": "stderr",
          "text": [
            "/usr/local/lib/python3.7/dist-packages/sklearn/utils/deprecation.py:87: FutureWarning: Function load_boston is deprecated; `load_boston` is deprecated in 1.0 and will be removed in 1.2.\n",
            "\n",
            "    The Boston housing prices dataset has an ethical problem. You can refer to\n",
            "    the documentation of this function for further details.\n",
            "\n",
            "    The scikit-learn maintainers therefore strongly discourage the use of this\n",
            "    dataset unless the purpose of the code is to study and educate about\n",
            "    ethical issues in data science and machine learning.\n",
            "\n",
            "    In this special case, you can fetch the dataset from the original\n",
            "    source::\n",
            "\n",
            "        import pandas as pd\n",
            "        import numpy as np\n",
            "\n",
            "\n",
            "        data_url = \"http://lib.stat.cmu.edu/datasets/boston\"\n",
            "        raw_df = pd.read_csv(data_url, sep=\"\\s+\", skiprows=22, header=None)\n",
            "        data = np.hstack([raw_df.values[::2, :], raw_df.values[1::2, :2]])\n",
            "        target = raw_df.values[1::2, 2]\n",
            "\n",
            "    Alternative datasets include the California housing dataset (i.e.\n",
            "    :func:`~sklearn.datasets.fetch_california_housing`) and the Ames housing\n",
            "    dataset. You can load the datasets as follows::\n",
            "\n",
            "        from sklearn.datasets import fetch_california_housing\n",
            "        housing = fetch_california_housing()\n",
            "\n",
            "    for the California housing dataset and::\n",
            "\n",
            "        from sklearn.datasets import fetch_openml\n",
            "        housing = fetch_openml(name=\"house_prices\", as_frame=True)\n",
            "\n",
            "    for the Ames housing dataset.\n",
            "    \n",
            "  warnings.warn(msg, category=FutureWarning)\n"
          ]
        }
      ]
    },
    {
      "cell_type": "code",
      "metadata": {
        "id": "6AUAOO94DXWE"
      },
      "source": [
        "scaler = StandardScaler()\n",
        "scaler.fit(X_train)\n",
        "X_train = scaler.transform(X_train)\n",
        "X_test = scaler.transform(X_test)"
      ],
      "execution_count": 204,
      "outputs": []
    },
    {
      "cell_type": "code",
      "metadata": {
        "colab": {
          "base_uri": "https://localhost:8080/"
        },
        "outputId": "cf8c1a9f-5644-434f-c6b1-8179ac3cbf15",
        "id": "DO9qMTKFDXWE"
      },
      "source": [
        "model = SVR(kernel='rbf')\n",
        "model.fit(X_train, y_train)"
      ],
      "execution_count": 205,
      "outputs": [
        {
          "output_type": "execute_result",
          "data": {
            "text/plain": [
              "SVR()"
            ]
          },
          "metadata": {},
          "execution_count": 205
        }
      ]
    },
    {
      "cell_type": "code",
      "metadata": {
        "colab": {
          "base_uri": "https://localhost:8080/"
        },
        "outputId": "5078e7a3-5716-4068-b66a-d4d4cd888601",
        "id": "p0O5gdcWDXWE"
      },
      "source": [
        "print(\" 학습 데이터 점수 : {}\".format(model.score(X_train, y_train)))\n",
        "print(\" 평가 데이터 점수 : {}\".format(model.score(X_test, y_test)))"
      ],
      "execution_count": 206,
      "outputs": [
        {
          "output_type": "stream",
          "name": "stdout",
          "text": [
            " 학습 데이터 점수 : 0.6936492025103855\n",
            " 평가 데이터 점수 : 0.631145656056062\n"
          ]
        }
      ]
    },
    {
      "cell_type": "code",
      "metadata": {
        "colab": {
          "base_uri": "https://localhost:8080/",
          "height": 349
        },
        "outputId": "4c00d306-c89e-460c-e519-109515cee243",
        "id": "4TnTgXwbDXWE"
      },
      "source": [
        "X_comp = TSNE(n_components=1).fit_transform(X)\n",
        "plt.scatter(X_comp,y)"
      ],
      "execution_count": 207,
      "outputs": [
        {
          "output_type": "stream",
          "name": "stderr",
          "text": [
            "/usr/local/lib/python3.7/dist-packages/sklearn/manifold/_t_sne.py:783: FutureWarning: The default initialization in TSNE will change from 'random' to 'pca' in 1.2.\n",
            "  FutureWarning,\n",
            "/usr/local/lib/python3.7/dist-packages/sklearn/manifold/_t_sne.py:793: FutureWarning: The default learning rate in TSNE will change from 200.0 to 'auto' in 1.2.\n",
            "  FutureWarning,\n"
          ]
        },
        {
          "output_type": "execute_result",
          "data": {
            "text/plain": [
              "<matplotlib.collections.PathCollection at 0x7fa55bab4f10>"
            ]
          },
          "metadata": {},
          "execution_count": 207
        },
        {
          "output_type": "display_data",
          "data": {
            "text/plain": [
              "<Figure size 432x288 with 1 Axes>"
            ],
            "image/png": "[encoded data removed]"
          },
          "metadata": {}
        }
      ]
    },
    {
      "cell_type": "code",
      "metadata": {
        "colab": {
          "base_uri": "https://localhost:8080/",
          "height": 279
        },
        "outputId": "12be816c-b258-4a77-f447-583599b1fe37",
        "id": "c8Jo7PHyDXWE"
      },
      "source": [
        "model.fit(X_comp,y)\n",
        "predict=model.predict(X_comp)\n",
        "plt.scatter(X_comp,y)\n",
        "plt.scatter(X_comp,predict, color='r')"
      ],
      "execution_count": 208,
      "outputs": [
        {
          "output_type": "execute_result",
          "data": {
            "text/plain": [
              "<matplotlib.collections.PathCollection at 0x7fa55a9f0990>"
            ]
          },
          "metadata": {},
          "execution_count": 208
        },
        {
          "output_type": "display_data",
          "data": {
            "text/plain": [
              "<Figure size 432x288 with 1 Axes>"
            ],
            "image/png": "[encoded data removed]"
          },
          "metadata": {}
        }
      ]
    },
    {
      "cell_type": "code",
      "metadata": {
        "colab": {
          "base_uri": "https://localhost:8080/"
        },
        "outputId": "83dc2398-77e7-452e-f7e7-a0842a99f7c8",
        "id": "qwYiTqQvDXWE"
      },
      "source": [
        "estimator = make_pipeline(StandardScaler(), SVR(kernel='rbf'))\n",
        "\n",
        "cross_validate(\n",
        "    estimator=estimator,\n",
        "    X=X,y=y,\n",
        "    cv=5,\n",
        "    n_jobs=multiprocessing.cpu_count(),\n",
        "    verbose=True\n",
        ")"
      ],
      "execution_count": 209,
      "outputs": [
        {
          "output_type": "stream",
          "name": "stderr",
          "text": [
            "[Parallel(n_jobs=2)]: Using backend LokyBackend with 2 concurrent workers.\n",
            "[Parallel(n_jobs=2)]: Done   5 out of   5 | elapsed:    0.1s finished\n"
          ]
        },
        {
          "output_type": "execute_result",
          "data": {
            "text/plain": [
              "{'fit_time': array([0.0221653 , 0.02489972, 0.0220027 , 0.02170396, 0.01836205]),\n",
              " 'score_time': array([0.00587535, 0.00621057, 0.00602508, 0.00587916, 0.00361419]),\n",
              " 'test_score': array([ 0.75781445,  0.50211018,  0.04310107,  0.33851703, -0.75997942])}"
            ]
          },
          "metadata": {},
          "execution_count": 209
        }
      ]
    },
    {
      "cell_type": "code",
      "metadata": {
        "colab": {
          "base_uri": "https://localhost:8080/"
        },
        "outputId": "f28970a3-e4e3-4272-aa11-a6a9699469e4",
        "id": "knhC2C2WDXWE"
      },
      "source": [
        "pipe = Pipeline([('sacler', StandardScaler()),\n",
        "                      ('model', SVR(kernel='rbf'))])\n",
        "\n",
        "param_grid =[{'model__kernel' : ['rbf','polynomial','sigmoid']}]\n",
        "\n",
        "gs =GridSearchCV(\n",
        "    estimator=pipe,\n",
        "    param_grid=param_grid,\n",
        "    n_jobs=multiprocessing.cpu_count(),\n",
        "    cv=5,\n",
        "    verbose=True\n",
        ")\n",
        "\n",
        "gs.fit(X,y)"
      ],
      "execution_count": 210,
      "outputs": [
        {
          "output_type": "stream",
          "name": "stdout",
          "text": [
            "Fitting 5 folds for each of 3 candidates, totalling 15 fits\n"
          ]
        },
        {
          "output_type": "stream",
          "name": "stderr",
          "text": [
            "/usr/local/lib/python3.7/dist-packages/sklearn/model_selection/_validation.py:372: FitFailedWarning: \n",
            "5 fits failed out of a total of 15.\n",
            "The score on these train-test partitions for these parameters will be set to nan.\n",
            "If these failures are not expected, you can try to debug them by setting error_score='raise'.\n",
            "\n",
            "Below are more details about the failures:\n",
            "--------------------------------------------------------------------------------\n",
            "5 fits failed with the following error:\n",
            "Traceback (most recent call last):\n",
            "  File \"/usr/local/lib/python3.7/dist-packages/sklearn/model_selection/_validation.py\", line 680, in _fit_and_score\n",
            "    estimator.fit(X_train, y_train, **fit_params)\n",
            "  File \"/usr/local/lib/python3.7/dist-packages/sklearn/pipeline.py\", line 394, in fit\n",
            "    self._final_estimator.fit(Xt, y, **fit_params_last_step)\n",
            "  File \"/usr/local/lib/python3.7/dist-packages/sklearn/svm/_base.py\", line 255, in fit\n",
            "    fit(X, y, sample_weight, solver_type, kernel, random_seed=seed)\n",
            "  File \"/usr/local/lib/python3.7/dist-packages/sklearn/svm/_base.py\", line 333, in _dense_fit\n",
            "    random_seed=random_seed,\n",
            "  File \"sklearn/svm/_libsvm.pyx\", line 173, in sklearn.svm._libsvm.fit\n",
            "ValueError: 'polynomial' is not in list\n",
            "\n",
            "  warnings.warn(some_fits_failed_message, FitFailedWarning)\n",
            "/usr/local/lib/python3.7/dist-packages/sklearn/model_selection/_search.py:972: UserWarning: One or more of the test scores are non-finite: [0.17631266        nan 0.14981591]\n",
            "  category=UserWarning,\n"
          ]
        },
        {
          "output_type": "execute_result",
          "data": {
            "text/plain": [
              "GridSearchCV(cv=5,\n",
              "             estimator=Pipeline(steps=[('sacler', StandardScaler()),\n",
              "                                       ('model', SVR())]),\n",
              "             n_jobs=2,\n",
              "             param_grid=[{'model__kernel': ['rbf', 'polynomial', 'sigmoid']}],\n",
              "             verbose=True)"
            ]
          },
          "metadata": {},
          "execution_count": 210
        }
      ]
    },
    {
      "cell_type": "code",
      "metadata": {
        "colab": {
          "base_uri": "https://localhost:8080/"
        },
        "outputId": "9ba4d386-f01e-4371-df47-c22dc1b4fb6c",
        "id": "HaGviBgGDXWF"
      },
      "source": [
        "gs.best_estimator_"
      ],
      "execution_count": 211,
      "outputs": [
        {
          "output_type": "execute_result",
          "data": {
            "text/plain": [
              "Pipeline(steps=[('sacler', StandardScaler()), ('model', SVR())])"
            ]
          },
          "metadata": {},
          "execution_count": 211
        }
      ]
    },
    {
      "cell_type": "code",
      "metadata": {
        "id": "MabVzR_RDoA_",
        "colab": {
          "base_uri": "https://localhost:8080/"
        },
        "outputId": "4ac02ab6-154e-41f5-fd0c-bc9689b3c4d6"
      },
      "source": [
        "pipe = Pipeline([('sacler', StandardScaler()),\n",
        "                      ('model', SVR(kernel='rbf'))])\n",
        "\n",
        "param_grid =[{'model__gamma' : ['scale','auto'],\n",
        "              'model__C' : [1.0,0.1,0.01],\n",
        "              'model__epsilon' : [1.0,0.1,0.01]}]\n",
        "\n",
        "gs =GridSearchCV(\n",
        "    estimator=pipe,\n",
        "    param_grid=param_grid,\n",
        "    n_jobs=multiprocessing.cpu_count(),\n",
        "    cv=5,\n",
        "    verbose=True\n",
        ")\n",
        "\n",
        "gs.fit(X,y)"
      ],
      "execution_count": 213,
      "outputs": [
        {
          "output_type": "stream",
          "name": "stdout",
          "text": [
            "Fitting 5 folds for each of 18 candidates, totalling 90 fits\n"
          ]
        },
        {
          "output_type": "execute_result",
          "data": {
            "text/plain": [
              "GridSearchCV(cv=5,\n",
              "             estimator=Pipeline(steps=[('sacler', StandardScaler()),\n",
              "                                       ('model', SVR())]),\n",
              "             n_jobs=2,\n",
              "             param_grid=[{'model__C': [1.0, 0.1, 0.01],\n",
              "                          'model__epsilon': [1.0, 0.1, 0.01],\n",
              "                          'model__gamma': ['scale', 'auto']}],\n",
              "             verbose=True)"
            ]
          },
          "metadata": {},
          "execution_count": 213
        }
      ]
    },
    {
      "cell_type": "code",
      "metadata": {
        "id": "G1KuZZKyEup_",
        "colab": {
          "base_uri": "https://localhost:8080/"
        },
        "outputId": "34aa1cc9-3a11-4c77-f1a3-425704db29af"
      },
      "source": [
        "gs.best_estimator_"
      ],
      "execution_count": 214,
      "outputs": [
        {
          "output_type": "execute_result",
          "data": {
            "text/plain": [
              "Pipeline(steps=[('sacler', StandardScaler()), ('model', SVR(epsilon=0.01))])"
            ]
          },
          "metadata": {},
          "execution_count": 214
        }
      ]
    },
    {
      "cell_type": "markdown",
      "metadata": {
        "id": "WjmIL-u1r9qU"
      },
      "source": [
        "### 당뇨병"
      ]
    },
    {
      "cell_type": "code",
      "source": [
        "X, y=load_diabetes(return_X_y=True)\n",
        "X_train, X_test, y_train, y_test = train_test_split(X, y, test_size=0.2)"
      ],
      "metadata": {
        "id": "ZO3vBiR5GqX1"
      },
      "execution_count": 216,
      "outputs": []
    },
    {
      "cell_type": "code",
      "metadata": {
        "id": "0JZdNEKcGqX2"
      },
      "source": [
        "scaler = StandardScaler()\n",
        "scaler.fit(X_train)\n",
        "X_train = scaler.transform(X_train)\n",
        "X_test = scaler.transform(X_test)"
      ],
      "execution_count": 217,
      "outputs": []
    },
    {
      "cell_type": "code",
      "metadata": {
        "colab": {
          "base_uri": "https://localhost:8080/"
        },
        "outputId": "5f6c466d-7a03-4699-8536-ed1f9fe24075",
        "id": "8vxMYTWcGqX3"
      },
      "source": [
        "model = SVR(kernel='rbf')\n",
        "model.fit(X_train, y_train)"
      ],
      "execution_count": 218,
      "outputs": [
        {
          "output_type": "execute_result",
          "data": {
            "text/plain": [
              "SVR()"
            ]
          },
          "metadata": {},
          "execution_count": 218
        }
      ]
    },
    {
      "cell_type": "code",
      "metadata": {
        "colab": {
          "base_uri": "https://localhost:8080/"
        },
        "outputId": "a703bffe-3b79-46e2-dde4-15c5c255c91a",
        "id": "KnjXDGrTGqX3"
      },
      "source": [
        "print(\" 학습 데이터 점수 : {}\".format(model.score(X_train, y_train)))\n",
        "print(\" 평가 데이터 점수 : {}\".format(model.score(X_test, y_test)))"
      ],
      "execution_count": 219,
      "outputs": [
        {
          "output_type": "stream",
          "name": "stdout",
          "text": [
            " 학습 데이터 점수 : 0.17858834767301313\n",
            " 평가 데이터 점수 : 0.20638104596918672\n"
          ]
        }
      ]
    },
    {
      "cell_type": "code",
      "metadata": {
        "colab": {
          "base_uri": "https://localhost:8080/",
          "height": 349
        },
        "outputId": "0ac70811-5c5c-4c79-d097-ca8a414700d2",
        "id": "3XgQtBpMGqX3"
      },
      "source": [
        "X_comp = TSNE(n_components=1).fit_transform(X)\n",
        "plt.scatter(X_comp,y)"
      ],
      "execution_count": 220,
      "outputs": [
        {
          "output_type": "stream",
          "name": "stderr",
          "text": [
            "/usr/local/lib/python3.7/dist-packages/sklearn/manifold/_t_sne.py:783: FutureWarning: The default initialization in TSNE will change from 'random' to 'pca' in 1.2.\n",
            "  FutureWarning,\n",
            "/usr/local/lib/python3.7/dist-packages/sklearn/manifold/_t_sne.py:793: FutureWarning: The default learning rate in TSNE will change from 200.0 to 'auto' in 1.2.\n",
            "  FutureWarning,\n"
          ]
        },
        {
          "output_type": "execute_result",
          "data": {
            "text/plain": [
              "<matplotlib.collections.PathCollection at 0x7fa55a939fd0>"
            ]
          },
          "metadata": {},
          "execution_count": 220
        },
        {
          "output_type": "display_data",
          "data": {
            "text/plain": [
              "<Figure size 432x288 with 1 Axes>"
            ],
            "image/png": "[encoded data removed]"
          },
          "metadata": {}
        }
      ]
    },
    {
      "cell_type": "code",
      "metadata": {
        "colab": {
          "base_uri": "https://localhost:8080/",
          "height": 279
        },
        "outputId": "6a7ded7f-9765-44f1-db4e-292b5fb0d760",
        "id": "trFXcRGVGqX3"
      },
      "source": [
        "model.fit(X_comp,y)\n",
        "predict=model.predict(X_comp)\n",
        "plt.scatter(X_comp,y)\n",
        "plt.scatter(X_comp,predict, color='r')"
      ],
      "execution_count": 221,
      "outputs": [
        {
          "output_type": "execute_result",
          "data": {
            "text/plain": [
              "<matplotlib.collections.PathCollection at 0x7fa55a8a4a10>"
            ]
          },
          "metadata": {},
          "execution_count": 221
        },
        {
          "output_type": "display_data",
          "data": {
            "text/plain": [
              "<Figure size 432x288 with 1 Axes>"
            ],
            "image/png": "[encoded data removed]"
          },
          "metadata": {}
        }
      ]
    },
    {
      "cell_type": "code",
      "metadata": {
        "colab": {
          "base_uri": "https://localhost:8080/"
        },
        "outputId": "aaf29c9c-bcd3-40c5-af2b-aff8d8f4c4f0",
        "id": "grR0K6KYGqX4"
      },
      "source": [
        "estimator = make_pipeline(StandardScaler(), SVR(kernel='rbf'))\n",
        "\n",
        "cross_validate(\n",
        "    estimator=estimator,\n",
        "    X=X,y=y,\n",
        "    cv=5,\n",
        "    n_jobs=multiprocessing.cpu_count(),\n",
        "    verbose=True\n",
        ")"
      ],
      "execution_count": 222,
      "outputs": [
        {
          "output_type": "stream",
          "name": "stderr",
          "text": [
            "[Parallel(n_jobs=2)]: Using backend LokyBackend with 2 concurrent workers.\n",
            "[Parallel(n_jobs=2)]: Done   5 out of   5 | elapsed:    0.1s finished\n"
          ]
        },
        {
          "output_type": "execute_result",
          "data": {
            "text/plain": [
              "{'fit_time': array([0.02363086, 0.02153826, 0.0147984 , 0.01422048, 0.0095706 ]),\n",
              " 'score_time': array([0.00461936, 0.00455785, 0.00464416, 0.00474501, 0.00259423]),\n",
              " 'test_score': array([0.14580789, 0.12539919, 0.18163816, 0.12223073, 0.15792085])}"
            ]
          },
          "metadata": {},
          "execution_count": 222
        }
      ]
    },
    {
      "cell_type": "code",
      "metadata": {
        "colab": {
          "base_uri": "https://localhost:8080/"
        },
        "outputId": "cd2c3182-f089-46e1-f909-0728d46d845c",
        "id": "pRxhf2aLGqX4"
      },
      "source": [
        "pipe = Pipeline([('sacler', StandardScaler()),\n",
        "                      ('model', SVR(kernel='rbf'))])\n",
        "\n",
        "param_grid =[{'model__kernel' : ['rbf','polynomial','sigmoid']}]\n",
        "\n",
        "gs =GridSearchCV(\n",
        "    estimator=pipe,\n",
        "    param_grid=param_grid,\n",
        "    n_jobs=multiprocessing.cpu_count(),\n",
        "    cv=5,\n",
        "    verbose=True\n",
        ")\n",
        "\n",
        "gs.fit(X,y)"
      ],
      "execution_count": 225,
      "outputs": [
        {
          "output_type": "stream",
          "name": "stdout",
          "text": [
            "Fitting 5 folds for each of 3 candidates, totalling 15 fits\n"
          ]
        },
        {
          "output_type": "stream",
          "name": "stderr",
          "text": [
            "/usr/local/lib/python3.7/dist-packages/sklearn/model_selection/_validation.py:372: FitFailedWarning: \n",
            "5 fits failed out of a total of 15.\n",
            "The score on these train-test partitions for these parameters will be set to nan.\n",
            "If these failures are not expected, you can try to debug them by setting error_score='raise'.\n",
            "\n",
            "Below are more details about the failures:\n",
            "--------------------------------------------------------------------------------\n",
            "5 fits failed with the following error:\n",
            "Traceback (most recent call last):\n",
            "  File \"/usr/local/lib/python3.7/dist-packages/sklearn/model_selection/_validation.py\", line 680, in _fit_and_score\n",
            "    estimator.fit(X_train, y_train, **fit_params)\n",
            "  File \"/usr/local/lib/python3.7/dist-packages/sklearn/pipeline.py\", line 394, in fit\n",
            "    self._final_estimator.fit(Xt, y, **fit_params_last_step)\n",
            "  File \"/usr/local/lib/python3.7/dist-packages/sklearn/svm/_base.py\", line 255, in fit\n",
            "    fit(X, y, sample_weight, solver_type, kernel, random_seed=seed)\n",
            "  File \"/usr/local/lib/python3.7/dist-packages/sklearn/svm/_base.py\", line 333, in _dense_fit\n",
            "    random_seed=random_seed,\n",
            "  File \"sklearn/svm/_libsvm.pyx\", line 173, in sklearn.svm._libsvm.fit\n",
            "ValueError: 'polynomial' is not in list\n",
            "\n",
            "  warnings.warn(some_fits_failed_message, FitFailedWarning)\n",
            "/usr/local/lib/python3.7/dist-packages/sklearn/model_selection/_search.py:972: UserWarning: One or more of the test scores are non-finite: [0.14659936        nan 0.34913589]\n",
            "  category=UserWarning,\n"
          ]
        },
        {
          "output_type": "execute_result",
          "data": {
            "text/plain": [
              "GridSearchCV(cv=5,\n",
              "             estimator=Pipeline(steps=[('sacler', StandardScaler()),\n",
              "                                       ('model', SVR())]),\n",
              "             n_jobs=2,\n",
              "             param_grid=[{'model__kernel': ['rbf', 'polynomial', 'sigmoid']}],\n",
              "             verbose=True)"
            ]
          },
          "metadata": {},
          "execution_count": 225
        }
      ]
    },
    {
      "cell_type": "code",
      "metadata": {
        "colab": {
          "base_uri": "https://localhost:8080/"
        },
        "outputId": "5f170fd5-0cea-405f-8139-43bf5dc0266c",
        "id": "A-xyuvl3GqX4"
      },
      "source": [
        "gs.best_estimator_"
      ],
      "execution_count": 226,
      "outputs": [
        {
          "output_type": "execute_result",
          "data": {
            "text/plain": [
              "Pipeline(steps=[('sacler', StandardScaler()), ('model', SVR(kernel='sigmoid'))])"
            ]
          },
          "metadata": {},
          "execution_count": 226
        }
      ]
    },
    {
      "cell_type": "code",
      "metadata": {
        "colab": {
          "base_uri": "https://localhost:8080/"
        },
        "outputId": "c3273d7f-3469-4f24-bc2b-7cd01cc38a71",
        "id": "mNS6DC5oGqX4"
      },
      "source": [
        "pipe = Pipeline([('sacler', StandardScaler()),\n",
        "                      ('model', SVR(kernel='sigmoid'))])\n",
        "\n",
        "param_grid =[{'model__gamma' : ['scale','auto'],\n",
        "              'model__C' : [1.0,0.1,0.01],\n",
        "              'model__epsilon' : [1.0,0.1,0.01]}]\n",
        "\n",
        "gs =GridSearchCV(\n",
        "    estimator=pipe,\n",
        "    param_grid=param_grid,\n",
        "    n_jobs=multiprocessing.cpu_count(),\n",
        "    cv=5,\n",
        "    verbose=True\n",
        ")\n",
        "\n",
        "gs.fit(X,y)"
      ],
      "execution_count": 227,
      "outputs": [
        {
          "output_type": "stream",
          "name": "stdout",
          "text": [
            "Fitting 5 folds for each of 18 candidates, totalling 90 fits\n"
          ]
        },
        {
          "output_type": "execute_result",
          "data": {
            "text/plain": [
              "GridSearchCV(cv=5,\n",
              "             estimator=Pipeline(steps=[('sacler', StandardScaler()),\n",
              "                                       ('model', SVR(kernel='sigmoid'))]),\n",
              "             n_jobs=2,\n",
              "             param_grid=[{'model__C': [1.0, 0.1, 0.01],\n",
              "                          'model__epsilon': [1.0, 0.1, 0.01],\n",
              "                          'model__gamma': ['scale', 'auto']}],\n",
              "             verbose=True)"
            ]
          },
          "metadata": {},
          "execution_count": 227
        }
      ]
    },
    {
      "cell_type": "code",
      "metadata": {
        "colab": {
          "base_uri": "https://localhost:8080/"
        },
        "outputId": "3bf30a28-77dc-4ca7-e39f-ad578f54aad9",
        "id": "1JaNhGMQGqX5"
      },
      "source": [
        "gs.best_estimator_"
      ],
      "execution_count": 228,
      "outputs": [
        {
          "output_type": "execute_result",
          "data": {
            "text/plain": [
              "Pipeline(steps=[('sacler', StandardScaler()),\n",
              "                ('model', SVR(epsilon=1.0, gamma='auto', kernel='sigmoid'))])"
            ]
          },
          "metadata": {},
          "execution_count": 228
        }
      ]
    },
    {
      "cell_type": "code",
      "source": [
        "model =gs.best_estimator_\n",
        "model.fit(X_train,y_train)"
      ],
      "metadata": {
        "id": "nqLH9zSMH3nW",
        "outputId": "19aa0941-c259-4ccf-882d-7d2c432c6aec",
        "colab": {
          "base_uri": "https://localhost:8080/"
        }
      },
      "execution_count": 229,
      "outputs": [
        {
          "output_type": "execute_result",
          "data": {
            "text/plain": [
              "Pipeline(steps=[('sacler', StandardScaler()),\n",
              "                ('model', SVR(epsilon=1.0, gamma='auto', kernel='sigmoid'))])"
            ]
          },
          "metadata": {},
          "execution_count": 229
        }
      ]
    },
    {
      "cell_type": "code",
      "metadata": {
        "id": "AmFCvtJlI99z",
        "colab": {
          "base_uri": "https://localhost:8080/"
        },
        "outputId": "dd3d001c-d395-45e5-d50a-93791b42f86c"
      },
      "source": [
        "print(\" 학습 데이터 점수 : {}\".format(model.score(X_train, y_train)))\n",
        "print(\" 평가 데이터 점수 : {}\".format(model.score(X_test, y_test)))"
      ],
      "execution_count": 230,
      "outputs": [
        {
          "output_type": "stream",
          "name": "stdout",
          "text": [
            " 학습 데이터 점수 : 0.37373924790621293\n",
            " 평가 데이터 점수 : 0.3990426970635933\n"
          ]
        }
      ]
    },
    {
      "cell_type": "markdown",
      "metadata": {
        "id": "iW0DXTLrNya-"
      },
      "source": [
        "## Linear SVC"
      ]
    },
    {
      "cell_type": "markdown",
      "metadata": {
        "id": "1b30IAFxN8XR"
      },
      "source": [
        "### 유방암"
      ]
    },
    {
      "cell_type": "code",
      "metadata": {
        "id": "JA62MGlxT5wP"
      },
      "source": [
        ""
      ],
      "execution_count": 196,
      "outputs": []
    },
    {
      "cell_type": "code",
      "metadata": {
        "id": "QLeBYuyrWQDw"
      },
      "source": [
        ""
      ],
      "execution_count": 196,
      "outputs": []
    },
    {
      "cell_type": "code",
      "metadata": {
        "id": "9MW3gKwJWaoQ"
      },
      "source": [
        ""
      ],
      "execution_count": 196,
      "outputs": []
    },
    {
      "cell_type": "code",
      "metadata": {
        "id": "WBcgn7-0Whn6"
      },
      "source": [
        ""
      ],
      "execution_count": 196,
      "outputs": []
    },
    {
      "cell_type": "code",
      "metadata": {
        "id": "bi1dYEBWmoxH"
      },
      "source": [
        ""
      ],
      "execution_count": 196,
      "outputs": []
    },
    {
      "cell_type": "code",
      "metadata": {
        "id": "wThzdvIimoxN"
      },
      "source": [
        ""
      ],
      "execution_count": 196,
      "outputs": []
    },
    {
      "cell_type": "code",
      "metadata": {
        "id": "wFMmUxkXXBAB"
      },
      "source": [
        ""
      ],
      "execution_count": 196,
      "outputs": []
    },
    {
      "cell_type": "code",
      "metadata": {
        "id": "ys_mdw5TXHSU"
      },
      "source": [
        ""
      ],
      "execution_count": 196,
      "outputs": []
    },
    {
      "cell_type": "code",
      "metadata": {
        "id": "pvmNxo6tY8WY"
      },
      "source": [
        ""
      ],
      "execution_count": 196,
      "outputs": []
    },
    {
      "cell_type": "code",
      "metadata": {
        "id": "wAXU-TMyY8B7"
      },
      "source": [
        ""
      ],
      "execution_count": 196,
      "outputs": []
    },
    {
      "cell_type": "code",
      "metadata": {
        "id": "u0RrlLHdY7nX"
      },
      "source": [
        ""
      ],
      "execution_count": 196,
      "outputs": []
    },
    {
      "cell_type": "code",
      "metadata": {
        "id": "THwH-7nJZDtd"
      },
      "source": [
        ""
      ],
      "execution_count": 196,
      "outputs": []
    },
    {
      "cell_type": "markdown",
      "metadata": {
        "id": "jJfcIODbN6ec"
      },
      "source": [
        "### 붓꽃"
      ]
    },
    {
      "cell_type": "code",
      "metadata": {
        "id": "HRlUQk2QOa-f"
      },
      "source": [
        ""
      ],
      "execution_count": 196,
      "outputs": []
    },
    {
      "cell_type": "code",
      "metadata": {
        "id": "KQecTCr4Olrr"
      },
      "source": [
        ""
      ],
      "execution_count": 196,
      "outputs": []
    },
    {
      "cell_type": "code",
      "metadata": {
        "id": "MsSU3aiJP9fn"
      },
      "source": [
        ""
      ],
      "execution_count": 196,
      "outputs": []
    },
    {
      "cell_type": "code",
      "metadata": {
        "id": "qAGmOZj5Qkk4"
      },
      "source": [
        ""
      ],
      "execution_count": 196,
      "outputs": []
    },
    {
      "cell_type": "code",
      "metadata": {
        "id": "l4kznJ4hmZmC"
      },
      "source": [
        ""
      ],
      "execution_count": 196,
      "outputs": []
    },
    {
      "cell_type": "code",
      "metadata": {
        "id": "05s3vwmEmZmM"
      },
      "source": [
        ""
      ],
      "execution_count": 196,
      "outputs": []
    },
    {
      "cell_type": "code",
      "metadata": {
        "id": "C-_JMQJ2mZmW"
      },
      "source": [
        ""
      ],
      "execution_count": 196,
      "outputs": []
    },
    {
      "cell_type": "code",
      "metadata": {
        "id": "UOT_vRO_mZmp"
      },
      "source": [
        ""
      ],
      "execution_count": 196,
      "outputs": []
    },
    {
      "cell_type": "code",
      "metadata": {
        "id": "mrQ4Akf5RI_v"
      },
      "source": [
        ""
      ],
      "execution_count": 196,
      "outputs": []
    },
    {
      "cell_type": "code",
      "metadata": {
        "id": "qzZrx2a-RPFB"
      },
      "source": [
        ""
      ],
      "execution_count": 196,
      "outputs": []
    },
    {
      "cell_type": "code",
      "metadata": {
        "id": "bWf0mPjXRm3p"
      },
      "source": [
        ""
      ],
      "execution_count": 196,
      "outputs": []
    },
    {
      "cell_type": "code",
      "metadata": {
        "id": "FgfS7jrzRrIa"
      },
      "source": [
        ""
      ],
      "execution_count": 196,
      "outputs": []
    },
    {
      "cell_type": "code",
      "metadata": {
        "id": "Rvnn5I7SSovQ"
      },
      "source": [
        ""
      ],
      "execution_count": 196,
      "outputs": []
    },
    {
      "cell_type": "code",
      "metadata": {
        "id": "3RgoCn-XSsnz"
      },
      "source": [
        ""
      ],
      "execution_count": 196,
      "outputs": []
    },
    {
      "cell_type": "markdown",
      "metadata": {
        "id": "fGErBCXR3P_p"
      },
      "source": [
        "### 와인"
      ]
    },
    {
      "cell_type": "code",
      "metadata": {
        "id": "HbDty6Se3Sbk"
      },
      "source": [
        ""
      ],
      "execution_count": 196,
      "outputs": []
    },
    {
      "cell_type": "code",
      "metadata": {
        "id": "on761i8Z3Sbt"
      },
      "source": [
        ""
      ],
      "execution_count": 196,
      "outputs": []
    },
    {
      "cell_type": "code",
      "metadata": {
        "id": "_F1cfInh3Sbz"
      },
      "source": [
        ""
      ],
      "execution_count": 196,
      "outputs": []
    },
    {
      "cell_type": "code",
      "metadata": {
        "id": "E8MZX5yH3Sb5"
      },
      "source": [
        ""
      ],
      "execution_count": 196,
      "outputs": []
    },
    {
      "cell_type": "code",
      "metadata": {
        "id": "B8aTIbQY3Sb_"
      },
      "source": [
        ""
      ],
      "execution_count": 196,
      "outputs": []
    },
    {
      "cell_type": "code",
      "metadata": {
        "id": "_T_1d8Wr3ScD"
      },
      "source": [
        ""
      ],
      "execution_count": 196,
      "outputs": []
    },
    {
      "cell_type": "code",
      "metadata": {
        "id": "PQhh8VrI3ScJ"
      },
      "source": [
        ""
      ],
      "execution_count": 196,
      "outputs": []
    },
    {
      "cell_type": "code",
      "metadata": {
        "id": "oRUmb5pp3ScO"
      },
      "source": [
        ""
      ],
      "execution_count": 196,
      "outputs": []
    },
    {
      "cell_type": "code",
      "metadata": {
        "id": "6ZuA2v6N3ScT"
      },
      "source": [
        ""
      ],
      "execution_count": 196,
      "outputs": []
    },
    {
      "cell_type": "code",
      "metadata": {
        "id": "xZ_WJD9k3ScX"
      },
      "source": [
        ""
      ],
      "execution_count": 196,
      "outputs": []
    },
    {
      "cell_type": "code",
      "metadata": {
        "id": "ibajspi_3Scc"
      },
      "source": [
        ""
      ],
      "execution_count": 196,
      "outputs": []
    },
    {
      "cell_type": "code",
      "metadata": {
        "id": "zuVdSsFI3Scg"
      },
      "source": [
        ""
      ],
      "execution_count": 196,
      "outputs": []
    },
    {
      "cell_type": "markdown",
      "metadata": {
        "id": "NKavNYlxN1fB"
      },
      "source": [
        "## Kernel SVC"
      ]
    },
    {
      "cell_type": "markdown",
      "metadata": {
        "id": "M7QkeGrdOAxV"
      },
      "source": [
        "### 유방암"
      ]
    },
    {
      "cell_type": "code",
      "metadata": {
        "id": "LtHeKTDjhF24"
      },
      "source": [
        ""
      ],
      "execution_count": 196,
      "outputs": []
    },
    {
      "cell_type": "code",
      "metadata": {
        "id": "UmSGCO2nhIsv"
      },
      "source": [
        ""
      ],
      "execution_count": 196,
      "outputs": []
    },
    {
      "cell_type": "code",
      "metadata": {
        "id": "Js0bF-5dhMFu"
      },
      "source": [
        ""
      ],
      "execution_count": 196,
      "outputs": []
    },
    {
      "cell_type": "code",
      "metadata": {
        "id": "tqM1jJtQhPTD"
      },
      "source": [
        ""
      ],
      "execution_count": 196,
      "outputs": []
    },
    {
      "cell_type": "code",
      "metadata": {
        "id": "pnbf0GgMm0Bl"
      },
      "source": [
        ""
      ],
      "execution_count": 196,
      "outputs": []
    },
    {
      "cell_type": "code",
      "metadata": {
        "id": "h-5OjkXRm0Br"
      },
      "source": [
        ""
      ],
      "execution_count": 196,
      "outputs": []
    },
    {
      "cell_type": "code",
      "metadata": {
        "id": "Lz5Bw7wIhS6q"
      },
      "source": [
        ""
      ],
      "execution_count": 196,
      "outputs": []
    },
    {
      "cell_type": "code",
      "metadata": {
        "id": "Hg9cHUlnhXfG"
      },
      "source": [
        ""
      ],
      "execution_count": 196,
      "outputs": []
    },
    {
      "cell_type": "code",
      "metadata": {
        "id": "lBRJHuzThp9Y"
      },
      "source": [
        ""
      ],
      "execution_count": 196,
      "outputs": []
    },
    {
      "cell_type": "code",
      "metadata": {
        "id": "VorKONXah5JG"
      },
      "source": [
        ""
      ],
      "execution_count": 196,
      "outputs": []
    },
    {
      "cell_type": "code",
      "metadata": {
        "id": "xqwLlKzSh9Un"
      },
      "source": [
        ""
      ],
      "execution_count": 196,
      "outputs": []
    },
    {
      "cell_type": "code",
      "metadata": {
        "id": "d0Otann9iEOk"
      },
      "source": [
        ""
      ],
      "execution_count": 196,
      "outputs": []
    },
    {
      "cell_type": "code",
      "metadata": {
        "id": "zc_xkMfHiI-N"
      },
      "source": [
        ""
      ],
      "execution_count": 196,
      "outputs": []
    },
    {
      "cell_type": "code",
      "metadata": {
        "id": "aAfAHqUCiMT0"
      },
      "source": [
        ""
      ],
      "execution_count": 196,
      "outputs": []
    },
    {
      "cell_type": "code",
      "metadata": {
        "id": "g8SPx4sLiU52"
      },
      "source": [
        ""
      ],
      "execution_count": 196,
      "outputs": []
    },
    {
      "cell_type": "code",
      "metadata": {
        "id": "bWzV2Hg5iZyA"
      },
      "source": [
        ""
      ],
      "execution_count": 196,
      "outputs": []
    },
    {
      "cell_type": "markdown",
      "metadata": {
        "id": "8488abTBN-GA"
      },
      "source": [
        "### 붓꽃"
      ]
    },
    {
      "cell_type": "code",
      "metadata": {
        "id": "fg3w1a2Ce9s1"
      },
      "source": [
        ""
      ],
      "execution_count": 196,
      "outputs": []
    },
    {
      "cell_type": "code",
      "metadata": {
        "id": "-uJ83cBufbZe"
      },
      "source": [
        ""
      ],
      "execution_count": 196,
      "outputs": []
    },
    {
      "cell_type": "code",
      "metadata": {
        "id": "mFb4DqDIffC8"
      },
      "source": [
        ""
      ],
      "execution_count": 196,
      "outputs": []
    },
    {
      "cell_type": "code",
      "metadata": {
        "id": "Pfd3oSsgfwiC"
      },
      "source": [
        ""
      ],
      "execution_count": 196,
      "outputs": []
    },
    {
      "cell_type": "code",
      "metadata": {
        "id": "fRB1BoL9mwIM"
      },
      "source": [
        ""
      ],
      "execution_count": 196,
      "outputs": []
    },
    {
      "cell_type": "code",
      "metadata": {
        "id": "PtqfjprKmwIV"
      },
      "source": [
        ""
      ],
      "execution_count": 196,
      "outputs": []
    },
    {
      "cell_type": "code",
      "metadata": {
        "id": "Bdvv3dd7f0Pz"
      },
      "source": [
        ""
      ],
      "execution_count": 196,
      "outputs": []
    },
    {
      "cell_type": "code",
      "metadata": {
        "id": "Jcnn2tQafz3T"
      },
      "source": [
        ""
      ],
      "execution_count": 196,
      "outputs": []
    },
    {
      "cell_type": "code",
      "metadata": {
        "id": "C_lEM81BgIXJ"
      },
      "source": [
        ""
      ],
      "execution_count": 196,
      "outputs": []
    },
    {
      "cell_type": "code",
      "metadata": {
        "id": "VI6PeNGTgJKt"
      },
      "source": [
        ""
      ],
      "execution_count": 196,
      "outputs": []
    },
    {
      "cell_type": "code",
      "metadata": {
        "id": "6UddLcxVgP_W"
      },
      "source": [
        ""
      ],
      "execution_count": 196,
      "outputs": []
    },
    {
      "cell_type": "code",
      "metadata": {
        "id": "xMn78snqgSYl"
      },
      "source": [
        ""
      ],
      "execution_count": 196,
      "outputs": []
    },
    {
      "cell_type": "code",
      "metadata": {
        "id": "74TPmmARf8Zz"
      },
      "source": [
        ""
      ],
      "execution_count": 196,
      "outputs": []
    },
    {
      "cell_type": "code",
      "metadata": {
        "id": "cT4UBZgmf8Gm"
      },
      "source": [
        ""
      ],
      "execution_count": 196,
      "outputs": []
    },
    {
      "cell_type": "code",
      "metadata": {
        "id": "qdjv70fpf7z9"
      },
      "source": [
        ""
      ],
      "execution_count": 196,
      "outputs": []
    },
    {
      "cell_type": "code",
      "metadata": {
        "id": "FqC2JZXbf7aF"
      },
      "source": [
        ""
      ],
      "execution_count": 196,
      "outputs": []
    },
    {
      "cell_type": "markdown",
      "metadata": {
        "id": "nidX5eMZ3ncE"
      },
      "source": [
        "### 와인"
      ]
    },
    {
      "cell_type": "code",
      "metadata": {
        "id": "JFi_47EI3ncH"
      },
      "source": [
        ""
      ],
      "execution_count": 196,
      "outputs": []
    },
    {
      "cell_type": "code",
      "metadata": {
        "id": "r0nXpsIy3ncP"
      },
      "source": [
        ""
      ],
      "execution_count": 196,
      "outputs": []
    },
    {
      "cell_type": "code",
      "metadata": {
        "id": "_bP6E_fo3nca"
      },
      "source": [
        ""
      ],
      "execution_count": 196,
      "outputs": []
    },
    {
      "cell_type": "code",
      "metadata": {
        "id": "31meFM0G3nch"
      },
      "source": [
        ""
      ],
      "execution_count": 196,
      "outputs": []
    },
    {
      "cell_type": "code",
      "metadata": {
        "id": "Vf0pIWPp3ncn"
      },
      "source": [
        ""
      ],
      "execution_count": 196,
      "outputs": []
    },
    {
      "cell_type": "code",
      "metadata": {
        "id": "aI0f1Gs_3ncv"
      },
      "source": [
        ""
      ],
      "execution_count": 196,
      "outputs": []
    },
    {
      "cell_type": "code",
      "metadata": {
        "id": "Edm3bwbJ3nc1"
      },
      "source": [
        ""
      ],
      "execution_count": 196,
      "outputs": []
    },
    {
      "cell_type": "code",
      "metadata": {
        "id": "hSirMLUZ3nc6"
      },
      "source": [
        ""
      ],
      "execution_count": 196,
      "outputs": []
    },
    {
      "cell_type": "code",
      "metadata": {
        "id": "GKmP7vEG3nc_"
      },
      "source": [
        ""
      ],
      "execution_count": 196,
      "outputs": []
    },
    {
      "cell_type": "code",
      "metadata": {
        "id": "UvcDratI3ndG"
      },
      "source": [
        ""
      ],
      "execution_count": 196,
      "outputs": []
    },
    {
      "cell_type": "code",
      "metadata": {
        "id": "IYGDeYTM3ndK"
      },
      "source": [
        ""
      ],
      "execution_count": 196,
      "outputs": []
    },
    {
      "cell_type": "code",
      "metadata": {
        "id": "lyQEmPG93ndP"
      },
      "source": [
        ""
      ],
      "execution_count": 196,
      "outputs": []
    },
    {
      "cell_type": "code",
      "metadata": {
        "id": "8Gz5WltL3ndU"
      },
      "source": [
        ""
      ],
      "execution_count": 196,
      "outputs": []
    },
    {
      "cell_type": "code",
      "metadata": {
        "id": "JYx0sPLh3ndZ"
      },
      "source": [
        ""
      ],
      "execution_count": 196,
      "outputs": []
    },
    {
      "cell_type": "code",
      "metadata": {
        "id": "zZw_Fq-q3ndd"
      },
      "source": [
        ""
      ],
      "execution_count": 196,
      "outputs": []
    },
    {
      "cell_type": "code",
      "metadata": {
        "id": "EZ-rVe_o3ndi"
      },
      "source": [
        ""
      ],
      "execution_count": 196,
      "outputs": []
    }
  ]
}